{
 "cells": [
  {
   "cell_type": "code",
   "execution_count": 96,
   "id": "133d7701-a194-45f3-8c47-c38ca0ef3b71",
   "metadata": {},
   "outputs": [
    {
     "data": {
      "text/html": [
       "<pre style=\"white-space:pre;overflow-x:auto;line-height:normal;font-family:Menlo,'DejaVu Sans Mono',consolas,'Courier New',monospace\"><span style=\"color: #7fbfbf; text-decoration-color: #7fbfbf\">[10/17/22 12:15:49] </span><span style=\"color: #000080; text-decoration-color: #000080\">INFO    </span> No path argument was provided. Using: C:\\work\\weather_us\\weather-us     <a href=\"file://C:\\work\\weather_us\\venv\\lib\\site-packages\\kedro\\ipython\\__init__.py\" target=\"_blank\"><span style=\"color: #7f7f7f; text-decoration-color: #7f7f7f\">__init__.py</span></a><span style=\"color: #7f7f7f; text-decoration-color: #7f7f7f\">:</span><a href=\"file://C:\\work\\weather_us\\venv\\lib\\site-packages\\kedro\\ipython\\__init__.py#56\" target=\"_blank\"><span style=\"color: #7f7f7f; text-decoration-color: #7f7f7f\">56</span></a>\n",
       "</pre>\n"
      ],
      "text/plain": [
       "\u001b[2;36m[10/17/22 12:15:49]\u001b[0m\u001b[2;36m \u001b[0m\u001b[34mINFO    \u001b[0m No path argument was provided. Using: C:\\work\\weather_us\\weather-us     \u001b]8;id=663552;file://C:\\work\\weather_us\\venv\\lib\\site-packages\\kedro\\ipython\\__init__.py\u001b\\\u001b[2m__init__.py\u001b[0m\u001b]8;;\u001b\\\u001b[2m:\u001b[0m\u001b]8;id=127672;file://C:\\work\\weather_us\\venv\\lib\\site-packages\\kedro\\ipython\\__init__.py#56\u001b\\\u001b[2m56\u001b[0m\u001b]8;;\u001b\\\n"
      ]
     },
     "metadata": {},
     "output_type": "display_data"
    },
    {
     "data": {
      "text/html": [
       "<pre style=\"white-space:pre;overflow-x:auto;line-height:normal;font-family:Menlo,'DejaVu Sans Mono',consolas,'Courier New',monospace\"><span style=\"color: #7fbfbf; text-decoration-color: #7fbfbf\">[10/17/22 12:15:50] </span><span style=\"color: #000080; text-decoration-color: #000080\">INFO    </span> Kedro project weather_us                                                <a href=\"file://C:\\work\\weather_us\\venv\\lib\\site-packages\\kedro\\ipython\\__init__.py\" target=\"_blank\"><span style=\"color: #7f7f7f; text-decoration-color: #7f7f7f\">__init__.py</span></a><span style=\"color: #7f7f7f; text-decoration-color: #7f7f7f\">:</span><a href=\"file://C:\\work\\weather_us\\venv\\lib\\site-packages\\kedro\\ipython\\__init__.py#77\" target=\"_blank\"><span style=\"color: #7f7f7f; text-decoration-color: #7f7f7f\">77</span></a>\n",
       "</pre>\n"
      ],
      "text/plain": [
       "\u001b[2;36m[10/17/22 12:15:50]\u001b[0m\u001b[2;36m \u001b[0m\u001b[34mINFO    \u001b[0m Kedro project weather_us                                                \u001b]8;id=845936;file://C:\\work\\weather_us\\venv\\lib\\site-packages\\kedro\\ipython\\__init__.py\u001b\\\u001b[2m__init__.py\u001b[0m\u001b]8;;\u001b\\\u001b[2m:\u001b[0m\u001b]8;id=208657;file://C:\\work\\weather_us\\venv\\lib\\site-packages\\kedro\\ipython\\__init__.py#77\u001b\\\u001b[2m77\u001b[0m\u001b]8;;\u001b\\\n"
      ]
     },
     "metadata": {},
     "output_type": "display_data"
    },
    {
     "data": {
      "text/html": [
       "<pre style=\"white-space:pre;overflow-x:auto;line-height:normal;font-family:Menlo,'DejaVu Sans Mono',consolas,'Courier New',monospace\"><span style=\"color: #7fbfbf; text-decoration-color: #7fbfbf\">                    </span><span style=\"color: #000080; text-decoration-color: #000080\">INFO    </span> Defined global variable <span style=\"color: #008000; text-decoration-color: #008000\">'context'</span>, <span style=\"color: #008000; text-decoration-color: #008000\">'session'</span>, <span style=\"color: #008000; text-decoration-color: #008000\">'catalog'</span> and <span style=\"color: #008000; text-decoration-color: #008000\">'pipelines'</span> <a href=\"file://C:\\work\\weather_us\\venv\\lib\\site-packages\\kedro\\ipython\\__init__.py\" target=\"_blank\"><span style=\"color: #7f7f7f; text-decoration-color: #7f7f7f\">__init__.py</span></a><span style=\"color: #7f7f7f; text-decoration-color: #7f7f7f\">:</span><a href=\"file://C:\\work\\weather_us\\venv\\lib\\site-packages\\kedro\\ipython\\__init__.py#78\" target=\"_blank\"><span style=\"color: #7f7f7f; text-decoration-color: #7f7f7f\">78</span></a>\n",
       "</pre>\n"
      ],
      "text/plain": [
       "\u001b[2;36m                   \u001b[0m\u001b[2;36m \u001b[0m\u001b[34mINFO    \u001b[0m Defined global variable \u001b[32m'context'\u001b[0m, \u001b[32m'session'\u001b[0m, \u001b[32m'catalog'\u001b[0m and \u001b[32m'pipelines'\u001b[0m \u001b]8;id=849262;file://C:\\work\\weather_us\\venv\\lib\\site-packages\\kedro\\ipython\\__init__.py\u001b\\\u001b[2m__init__.py\u001b[0m\u001b]8;;\u001b\\\u001b[2m:\u001b[0m\u001b]8;id=500820;file://C:\\work\\weather_us\\venv\\lib\\site-packages\\kedro\\ipython\\__init__.py#78\u001b\\\u001b[2m78\u001b[0m\u001b]8;;\u001b\\\n"
      ]
     },
     "metadata": {},
     "output_type": "display_data"
    }
   ],
   "source": [
    "%reload_kedro"
   ]
  },
  {
   "cell_type": "code",
   "execution_count": 2,
   "id": "1f63b996-a9ab-493d-8ed5-3574f57a8462",
   "metadata": {
    "tags": []
   },
   "outputs": [
    {
     "name": "stdout",
     "output_type": "stream",
     "text": [
      "Requirement already satisfied: matplotlib in c:\\work\\weather_us\\venv\\lib\\site-packages (3.6.1)\n",
      "Requirement already satisfied: numpy>=1.19 in c:\\work\\weather_us\\venv\\lib\\site-packages (from matplotlib) (1.23.4)\n",
      "Requirement already satisfied: pyparsing>=2.2.1 in c:\\work\\weather_us\\venv\\lib\\site-packages (from matplotlib) (3.0.9)\n",
      "Requirement already satisfied: python-dateutil>=2.7 in c:\\work\\weather_us\\venv\\lib\\site-packages (from matplotlib) (2.8.2)\n",
      "Requirement already satisfied: packaging>=20.0 in c:\\work\\weather_us\\venv\\lib\\site-packages (from matplotlib) (21.3)\n",
      "Requirement already satisfied: fonttools>=4.22.0 in c:\\work\\weather_us\\venv\\lib\\site-packages (from matplotlib) (4.37.4)\n",
      "Requirement already satisfied: contourpy>=1.0.1 in c:\\work\\weather_us\\venv\\lib\\site-packages (from matplotlib) (1.0.5)\n",
      "Requirement already satisfied: kiwisolver>=1.0.1 in c:\\work\\weather_us\\venv\\lib\\site-packages (from matplotlib) (1.4.4)\n",
      "Requirement already satisfied: pillow>=6.2.0 in c:\\work\\weather_us\\venv\\lib\\site-packages (from matplotlib) (9.2.0)\n",
      "Requirement already satisfied: cycler>=0.10 in c:\\work\\weather_us\\venv\\lib\\site-packages (from matplotlib) (0.11.0)\n",
      "Requirement already satisfied: six>=1.5 in c:\\work\\weather_us\\venv\\lib\\site-packages (from python-dateutil>=2.7->matplotlib) (1.16.0)\n",
      "Note: you may need to restart the kernel to use updated packages.\n"
     ]
    }
   ],
   "source": [
    "pip install matplotlib"
   ]
  },
  {
   "cell_type": "code",
   "execution_count": 3,
   "id": "fbcc88b3-f9f3-4a1d-b2ef-d3b1bad5d46c",
   "metadata": {
    "tags": []
   },
   "outputs": [
    {
     "name": "stdout",
     "output_type": "stream",
     "text": [
      "Requirement already satisfied: seaborn in c:\\work\\weather_us\\venv\\lib\\site-packages (0.12.0)Note: you may need to restart the kernel to use updated packages.\n",
      "\n",
      "Requirement already satisfied: numpy>=1.17 in c:\\work\\weather_us\\venv\\lib\\site-packages (from seaborn) (1.23.4)\n",
      "Requirement already satisfied: pandas>=0.25 in c:\\work\\weather_us\\venv\\lib\\site-packages (from seaborn) (1.5.0)\n",
      "Requirement already satisfied: matplotlib>=3.1 in c:\\work\\weather_us\\venv\\lib\\site-packages (from seaborn) (3.6.1)\n",
      "Requirement already satisfied: cycler>=0.10 in c:\\work\\weather_us\\venv\\lib\\site-packages (from matplotlib>=3.1->seaborn) (0.11.0)\n",
      "Requirement already satisfied: fonttools>=4.22.0 in c:\\work\\weather_us\\venv\\lib\\site-packages (from matplotlib>=3.1->seaborn) (4.37.4)\n",
      "Requirement already satisfied: packaging>=20.0 in c:\\work\\weather_us\\venv\\lib\\site-packages (from matplotlib>=3.1->seaborn) (21.3)\n",
      "Requirement already satisfied: pillow>=6.2.0 in c:\\work\\weather_us\\venv\\lib\\site-packages (from matplotlib>=3.1->seaborn) (9.2.0)\n",
      "Requirement already satisfied: contourpy>=1.0.1 in c:\\work\\weather_us\\venv\\lib\\site-packages (from matplotlib>=3.1->seaborn) (1.0.5)\n",
      "Requirement already satisfied: kiwisolver>=1.0.1 in c:\\work\\weather_us\\venv\\lib\\site-packages (from matplotlib>=3.1->seaborn) (1.4.4)\n",
      "Requirement already satisfied: pyparsing>=2.2.1 in c:\\work\\weather_us\\venv\\lib\\site-packages (from matplotlib>=3.1->seaborn) (3.0.9)\n",
      "Requirement already satisfied: python-dateutil>=2.7 in c:\\work\\weather_us\\venv\\lib\\site-packages (from matplotlib>=3.1->seaborn) (2.8.2)\n",
      "Requirement already satisfied: pytz>=2020.1 in c:\\work\\weather_us\\venv\\lib\\site-packages (from pandas>=0.25->seaborn) (2022.4)\n",
      "Requirement already satisfied: six>=1.5 in c:\\work\\weather_us\\venv\\lib\\site-packages (from python-dateutil>=2.7->matplotlib>=3.1->seaborn) (1.16.0)\n"
     ]
    }
   ],
   "source": [
    "pip install seaborn"
   ]
  },
  {
   "cell_type": "code",
   "execution_count": 97,
   "id": "203ff9bf-0e0b-4fc4-90e9-f740adc825ba",
   "metadata": {},
   "outputs": [],
   "source": [
    "import numpy as np # linear algebra\n",
    "import pandas as pd # data processing, CSV file I/O (e.g. pd.read_csv)\n",
    "import matplotlib.pyplot as plt # data visualization\n",
    "import seaborn as sns # statistical data visualization\n",
    "from sklearn import preprocessing\n",
    "%matplotlib inline\n",
    "from sklearn.linear_model import LogisticRegression\n",
    "from sklearn.svm import SVC\n",
    "from sklearn.ensemble import RandomForestClassifier\n",
    "from sklearn.neighbors import KNeighborsClassifier\n",
    "from sklearn.tree import DecisionTreeClassifier\n",
    "import warnings\n",
    "\n",
    "warnings.filterwarnings('ignore')"
   ]
  },
  {
   "cell_type": "code",
   "execution_count": 98,
   "id": "54f43c4a-f96c-40a0-9594-31bf5d8c6c7f",
   "metadata": {},
   "outputs": [
    {
     "data": {
      "text/html": [
       "<pre style=\"white-space:pre;overflow-x:auto;line-height:normal;font-family:Menlo,'DejaVu Sans Mono',consolas,'Courier New',monospace\"><span style=\"font-weight: bold\">[</span><span style=\"color: #008000; text-decoration-color: #008000\">'weather_aus_raw'</span>, <span style=\"color: #008000; text-decoration-color: #008000\">'parameters'</span><span style=\"font-weight: bold\">]</span>\n",
       "</pre>\n"
      ],
      "text/plain": [
       "\u001b[1m[\u001b[0m\u001b[32m'weather_aus_raw'\u001b[0m, \u001b[32m'parameters'\u001b[0m\u001b[1m]\u001b[0m\n"
      ]
     },
     "metadata": {},
     "output_type": "display_data"
    }
   ],
   "source": [
    "catalog.list()"
   ]
  },
  {
   "cell_type": "code",
   "execution_count": 99,
   "id": "763363d7-0b79-4f02-b5c5-ca9d1df1716c",
   "metadata": {},
   "outputs": [
    {
     "data": {
      "text/html": [
       "<pre style=\"white-space:pre;overflow-x:auto;line-height:normal;font-family:Menlo,'DejaVu Sans Mono',consolas,'Courier New',monospace\"><span style=\"color: #7fbfbf; text-decoration-color: #7fbfbf\">[10/17/22 12:15:59] </span><span style=\"color: #000080; text-decoration-color: #000080\">INFO    </span> Loading data from <span style=\"color: #008000; text-decoration-color: #008000\">'weather_aus_raw'</span> <span style=\"font-weight: bold\">(</span>CSVDataSet<span style=\"font-weight: bold\">)</span><span style=\"color: #808000; text-decoration-color: #808000\">...</span>                <a href=\"file://C:\\work\\weather_us\\venv\\lib\\site-packages\\kedro\\io\\data_catalog.py\" target=\"_blank\"><span style=\"color: #7f7f7f; text-decoration-color: #7f7f7f\">data_catalog.py</span></a><span style=\"color: #7f7f7f; text-decoration-color: #7f7f7f\">:</span><a href=\"file://C:\\work\\weather_us\\venv\\lib\\site-packages\\kedro\\io\\data_catalog.py#343\" target=\"_blank\"><span style=\"color: #7f7f7f; text-decoration-color: #7f7f7f\">343</span></a>\n",
       "</pre>\n"
      ],
      "text/plain": [
       "\u001b[2;36m[10/17/22 12:15:59]\u001b[0m\u001b[2;36m \u001b[0m\u001b[34mINFO    \u001b[0m Loading data from \u001b[32m'weather_aus_raw'\u001b[0m \u001b[1m(\u001b[0mCSVDataSet\u001b[1m)\u001b[0m\u001b[33m...\u001b[0m                \u001b]8;id=776807;file://C:\\work\\weather_us\\venv\\lib\\site-packages\\kedro\\io\\data_catalog.py\u001b\\\u001b[2mdata_catalog.py\u001b[0m\u001b]8;;\u001b\\\u001b[2m:\u001b[0m\u001b]8;id=545627;file://C:\\work\\weather_us\\venv\\lib\\site-packages\\kedro\\io\\data_catalog.py#343\u001b\\\u001b[2m343\u001b[0m\u001b]8;;\u001b\\\n"
      ]
     },
     "metadata": {},
     "output_type": "display_data"
    }
   ],
   "source": [
    "df = catalog.load(\"weather_aus_raw\")"
   ]
  },
  {
   "cell_type": "code",
   "execution_count": 100,
   "id": "adc2b2fd-9338-4b1c-8813-d8bb005f8ced",
   "metadata": {},
   "outputs": [
    {
     "data": {
      "text/html": [
       "<div>\n",
       "<style scoped>\n",
       "    .dataframe tbody tr th:only-of-type {\n",
       "        vertical-align: middle;\n",
       "    }\n",
       "\n",
       "    .dataframe tbody tr th {\n",
       "        vertical-align: top;\n",
       "    }\n",
       "\n",
       "    .dataframe thead th {\n",
       "        text-align: right;\n",
       "    }\n",
       "</style>\n",
       "<table border=\"1\" class=\"dataframe\">\n",
       "  <thead>\n",
       "    <tr style=\"text-align: right;\">\n",
       "      <th></th>\n",
       "      <th>Date</th>\n",
       "      <th>Location</th>\n",
       "      <th>MinTemp</th>\n",
       "      <th>MaxTemp</th>\n",
       "      <th>Rainfall</th>\n",
       "      <th>Evaporation</th>\n",
       "      <th>Sunshine</th>\n",
       "      <th>WindGustDir</th>\n",
       "      <th>WindGustSpeed</th>\n",
       "      <th>WindDir9am</th>\n",
       "      <th>...</th>\n",
       "      <th>Humidity9am</th>\n",
       "      <th>Humidity3pm</th>\n",
       "      <th>Pressure9am</th>\n",
       "      <th>Pressure3pm</th>\n",
       "      <th>Cloud9am</th>\n",
       "      <th>Cloud3pm</th>\n",
       "      <th>Temp9am</th>\n",
       "      <th>Temp3pm</th>\n",
       "      <th>RainToday</th>\n",
       "      <th>RainTomorrow</th>\n",
       "    </tr>\n",
       "  </thead>\n",
       "  <tbody>\n",
       "    <tr>\n",
       "      <th>0</th>\n",
       "      <td>2008-12-01</td>\n",
       "      <td>Albury</td>\n",
       "      <td>13.4</td>\n",
       "      <td>22.9</td>\n",
       "      <td>0.6</td>\n",
       "      <td>NaN</td>\n",
       "      <td>NaN</td>\n",
       "      <td>W</td>\n",
       "      <td>44.0</td>\n",
       "      <td>W</td>\n",
       "      <td>...</td>\n",
       "      <td>71.0</td>\n",
       "      <td>22.0</td>\n",
       "      <td>1007.7</td>\n",
       "      <td>1007.1</td>\n",
       "      <td>8.0</td>\n",
       "      <td>NaN</td>\n",
       "      <td>16.9</td>\n",
       "      <td>21.8</td>\n",
       "      <td>No</td>\n",
       "      <td>No</td>\n",
       "    </tr>\n",
       "    <tr>\n",
       "      <th>1</th>\n",
       "      <td>2008-12-02</td>\n",
       "      <td>Albury</td>\n",
       "      <td>7.4</td>\n",
       "      <td>25.1</td>\n",
       "      <td>0.0</td>\n",
       "      <td>NaN</td>\n",
       "      <td>NaN</td>\n",
       "      <td>WNW</td>\n",
       "      <td>44.0</td>\n",
       "      <td>NNW</td>\n",
       "      <td>...</td>\n",
       "      <td>44.0</td>\n",
       "      <td>25.0</td>\n",
       "      <td>1010.6</td>\n",
       "      <td>1007.8</td>\n",
       "      <td>NaN</td>\n",
       "      <td>NaN</td>\n",
       "      <td>17.2</td>\n",
       "      <td>24.3</td>\n",
       "      <td>No</td>\n",
       "      <td>No</td>\n",
       "    </tr>\n",
       "    <tr>\n",
       "      <th>2</th>\n",
       "      <td>2008-12-03</td>\n",
       "      <td>Albury</td>\n",
       "      <td>12.9</td>\n",
       "      <td>25.7</td>\n",
       "      <td>0.0</td>\n",
       "      <td>NaN</td>\n",
       "      <td>NaN</td>\n",
       "      <td>WSW</td>\n",
       "      <td>46.0</td>\n",
       "      <td>W</td>\n",
       "      <td>...</td>\n",
       "      <td>38.0</td>\n",
       "      <td>30.0</td>\n",
       "      <td>1007.6</td>\n",
       "      <td>1008.7</td>\n",
       "      <td>NaN</td>\n",
       "      <td>2.0</td>\n",
       "      <td>21.0</td>\n",
       "      <td>23.2</td>\n",
       "      <td>No</td>\n",
       "      <td>No</td>\n",
       "    </tr>\n",
       "    <tr>\n",
       "      <th>3</th>\n",
       "      <td>2008-12-04</td>\n",
       "      <td>Albury</td>\n",
       "      <td>9.2</td>\n",
       "      <td>28.0</td>\n",
       "      <td>0.0</td>\n",
       "      <td>NaN</td>\n",
       "      <td>NaN</td>\n",
       "      <td>NE</td>\n",
       "      <td>24.0</td>\n",
       "      <td>SE</td>\n",
       "      <td>...</td>\n",
       "      <td>45.0</td>\n",
       "      <td>16.0</td>\n",
       "      <td>1017.6</td>\n",
       "      <td>1012.8</td>\n",
       "      <td>NaN</td>\n",
       "      <td>NaN</td>\n",
       "      <td>18.1</td>\n",
       "      <td>26.5</td>\n",
       "      <td>No</td>\n",
       "      <td>No</td>\n",
       "    </tr>\n",
       "    <tr>\n",
       "      <th>4</th>\n",
       "      <td>2008-12-05</td>\n",
       "      <td>Albury</td>\n",
       "      <td>17.5</td>\n",
       "      <td>32.3</td>\n",
       "      <td>1.0</td>\n",
       "      <td>NaN</td>\n",
       "      <td>NaN</td>\n",
       "      <td>W</td>\n",
       "      <td>41.0</td>\n",
       "      <td>ENE</td>\n",
       "      <td>...</td>\n",
       "      <td>82.0</td>\n",
       "      <td>33.0</td>\n",
       "      <td>1010.8</td>\n",
       "      <td>1006.0</td>\n",
       "      <td>7.0</td>\n",
       "      <td>8.0</td>\n",
       "      <td>17.8</td>\n",
       "      <td>29.7</td>\n",
       "      <td>No</td>\n",
       "      <td>No</td>\n",
       "    </tr>\n",
       "  </tbody>\n",
       "</table>\n",
       "<p>5 rows × 23 columns</p>\n",
       "</div>"
      ]
     },
     "execution_count": 100,
     "metadata": {},
     "output_type": "execute_result"
    }
   ],
   "source": [
    "df.head()"
   ]
  },
  {
   "cell_type": "code",
   "execution_count": 101,
   "id": "bc119fcf-d5c6-4423-9157-0156a85b2aea",
   "metadata": {},
   "outputs": [
    {
     "data": {
      "text/html": [
       "<pre style=\"white-space:pre;overflow-x:auto;line-height:normal;font-family:Menlo,'DejaVu Sans Mono',consolas,'Courier New',monospace\"><span style=\"font-weight: bold\">(</span><span style=\"color: #008080; text-decoration-color: #008080; font-weight: bold\">145460</span>, <span style=\"color: #008080; text-decoration-color: #008080; font-weight: bold\">23</span><span style=\"font-weight: bold\">)</span>\n",
       "</pre>\n"
      ],
      "text/plain": [
       "\u001b[1m(\u001b[0m\u001b[1;36m145460\u001b[0m, \u001b[1;36m23\u001b[0m\u001b[1m)\u001b[0m\n"
      ]
     },
     "metadata": {},
     "output_type": "display_data"
    }
   ],
   "source": [
    "df.shape\n"
   ]
  },
  {
   "attachments": {},
   "cell_type": "markdown",
   "id": "77d85ad4-9859-4f49-be29-c467cc116eae",
   "metadata": {},
   "source": [
    "# Extracting Training data/ labeled data"
   ]
  },
  {
   "cell_type": "code",
   "execution_count": 102,
   "id": "ede258f9-c07a-4c58-bbc0-5e16ca00ce4c",
   "metadata": {},
   "outputs": [],
   "source": [
    "# We need to create a node\n",
    "def extract_training_data(df):\n",
    "    \"\"\"\" Extracting the training data from raw data and droping Date column\n",
    "    Args: Pandas DataFrame here Raw Data\n",
    "    Return: DataFrame i.e. Training Data\"\"\"\n",
    "    df = df.drop(\"Date\", axis = 1)\n",
    "    df1 = df[df['RainTomorrow'].notna()]   #This is our training data\n",
    "    return df1"
   ]
  },
  {
   "cell_type": "code",
   "execution_count": 103,
   "id": "ee3774ab-18bd-4035-9bec-6b96651fdcc0",
   "metadata": {},
   "outputs": [],
   "source": [
    "df1 = extract_training_data(df)"
   ]
  },
  {
   "cell_type": "code",
   "execution_count": 104,
   "id": "d00a9a75-cfe6-46f7-b930-595c075212c3",
   "metadata": {},
   "outputs": [
    {
     "data": {
      "text/html": [
       "<pre style=\"white-space:pre;overflow-x:auto;line-height:normal;font-family:Menlo,'DejaVu Sans Mono',consolas,'Courier New',monospace\"><span style=\"font-weight: bold\">(</span><span style=\"color: #008080; text-decoration-color: #008080; font-weight: bold\">142193</span>, <span style=\"color: #008080; text-decoration-color: #008080; font-weight: bold\">22</span><span style=\"font-weight: bold\">)</span>\n",
       "</pre>\n"
      ],
      "text/plain": [
       "\u001b[1m(\u001b[0m\u001b[1;36m142193\u001b[0m, \u001b[1;36m22\u001b[0m\u001b[1m)\u001b[0m\n"
      ]
     },
     "metadata": {},
     "output_type": "display_data"
    }
   ],
   "source": [
    "df1.shape"
   ]
  },
  {
   "cell_type": "code",
   "execution_count": 105,
   "id": "f402607d-05f4-41e8-b2f7-bbb856738e09",
   "metadata": {},
   "outputs": [],
   "source": [
    "# Model pickling ---pickle  ---dump\n",
    "\n",
    "# Model unpickling ---load the model in notebook\n",
    "\n",
    "# Inference: we need predictions on null values(Target variables)"
   ]
  },
  {
   "attachments": {},
   "cell_type": "markdown",
   "id": "a6cfd258-b74d-43e3-b747-f71bea0265ba",
   "metadata": {},
   "source": [
    "# Lablel Encoding & Filling the null values"
   ]
  },
  {
   "cell_type": "code",
   "execution_count": 106,
   "id": "15b7d527-01d5-4998-8745-80c206a82fe0",
   "metadata": {},
   "outputs": [
    {
     "name": "stdout",
     "output_type": "stream",
     "text": [
      "Requirement already satisfied: sklearn in c:\\work\\weather_us\\venv\\lib\\site-packages (0.0)\n",
      "Requirement already satisfied: scikit-learn in c:\\work\\weather_us\\venv\\lib\\site-packages (from sklearn) (1.1.2)\n",
      "Requirement already satisfied: threadpoolctl>=2.0.0 in c:\\work\\weather_us\\venv\\lib\\site-packages (from scikit-learn->sklearn) (3.1.0)\n",
      "Requirement already satisfied: joblib>=1.0.0 in c:\\work\\weather_us\\venv\\lib\\site-packages (from scikit-learn->sklearn) (1.2.0)\n",
      "Requirement already satisfied: scipy>=1.3.2 in c:\\work\\weather_us\\venv\\lib\\site-packages (from scikit-learn->sklearn) (1.9.2)\n",
      "Requirement already satisfied: numpy>=1.17.3 in c:\\work\\weather_us\\venv\\lib\\site-packages (from scikit-learn->sklearn) (1.23.4)\n",
      "Note: you may need to restart the kernel to use updated packages.\n"
     ]
    }
   ],
   "source": [
    "pip install sklearn"
   ]
  },
  {
   "cell_type": "code",
   "execution_count": 107,
   "id": "bada9176-e680-4743-b6df-848f73679116",
   "metadata": {},
   "outputs": [],
   "source": [
    "# Import label encoder\n",
    "from sklearn import preprocessing\n",
    "  \n",
    "# label_encoder object knows how to understand word labels.\n",
    "label_encoder = preprocessing.LabelEncoder()"
   ]
  },
  {
   "cell_type": "code",
   "execution_count": 108,
   "id": "ba7ef92d-d9ed-4460-bc71-3133152722f4",
   "metadata": {},
   "outputs": [],
   "source": [
    "# We need to create a node\n",
    "def label_encoding_filling_null(df1):\n",
    "    \"\"\"\" label encoding the training  and filling null values in column\n",
    "    Args:  DataFrame training data\n",
    "    Return: DataFrame without null values i.e. Training Data\"\"\"\n",
    "    #replacing null values in categorical variables with mode value\n",
    "    df1['WindGustDir'].fillna(df1['WindGustDir'].mode()[0], inplace=True)\n",
    "    df1['WindDir9am'].fillna(df1['WindDir9am'].mode()[0], inplace=True)\n",
    "    df1['WindDir3pm'].fillna(df1['WindDir3pm'].mode()[0], inplace=True)\n",
    "    df1['RainToday'].fillna(df1['RainToday'].mode()[0], inplace=True)\n",
    "    df1['RainTomorrow'].fillna(df1['RainTomorrow'].mode()[0], inplace=True)\n",
    "\n",
    "        # label_encoder object knows how to understand word labels.\n",
    "    label_encoder = preprocessing.LabelEncoder()\n",
    "    \n",
    "    # Encode labels in column 'Location'.'RainTomorrow','Date','WindDir9am',\t'WindDir3pm',\t'RainToday',\t'RainTomorrow'\n",
    "    df1['Location']= label_encoder.fit_transform(df1['Location'])\n",
    "    df1['WindGustDir']= label_encoder.fit_transform(df1['WindGustDir'])\n",
    "    df1['WindDir9am']= label_encoder.fit_transform(df1['WindDir9am'])\n",
    "    df1['WindDir3pm']= label_encoder.fit_transform(df1['WindDir3pm'])\n",
    "    df1['RainToday']= label_encoder.fit_transform(df1['RainToday'])\n",
    "    df1['RainTomorrow']= label_encoder.fit_transform(df1['RainTomorrow'])\n",
    "    \n",
    "    #filling the null values in numerical variable with median\n",
    "    df1 = df1.fillna(df1.median())\n",
    "\n",
    "\n",
    "    return df1"
   ]
  },
  {
   "cell_type": "code",
   "execution_count": 109,
   "id": "cec63c64-3d2d-49ef-9e09-adb2a5c71aae",
   "metadata": {},
   "outputs": [
    {
     "data": {
      "text/html": [
       "<div>\n",
       "<style scoped>\n",
       "    .dataframe tbody tr th:only-of-type {\n",
       "        vertical-align: middle;\n",
       "    }\n",
       "\n",
       "    .dataframe tbody tr th {\n",
       "        vertical-align: top;\n",
       "    }\n",
       "\n",
       "    .dataframe thead th {\n",
       "        text-align: right;\n",
       "    }\n",
       "</style>\n",
       "<table border=\"1\" class=\"dataframe\">\n",
       "  <thead>\n",
       "    <tr style=\"text-align: right;\">\n",
       "      <th></th>\n",
       "      <th>Location</th>\n",
       "      <th>MinTemp</th>\n",
       "      <th>MaxTemp</th>\n",
       "      <th>Rainfall</th>\n",
       "      <th>Evaporation</th>\n",
       "      <th>Sunshine</th>\n",
       "      <th>WindGustDir</th>\n",
       "      <th>WindGustSpeed</th>\n",
       "      <th>WindDir9am</th>\n",
       "      <th>WindDir3pm</th>\n",
       "      <th>...</th>\n",
       "      <th>Humidity9am</th>\n",
       "      <th>Humidity3pm</th>\n",
       "      <th>Pressure9am</th>\n",
       "      <th>Pressure3pm</th>\n",
       "      <th>Cloud9am</th>\n",
       "      <th>Cloud3pm</th>\n",
       "      <th>Temp9am</th>\n",
       "      <th>Temp3pm</th>\n",
       "      <th>RainToday</th>\n",
       "      <th>RainTomorrow</th>\n",
       "    </tr>\n",
       "  </thead>\n",
       "  <tbody>\n",
       "    <tr>\n",
       "      <th>0</th>\n",
       "      <td>2</td>\n",
       "      <td>13.4</td>\n",
       "      <td>22.9</td>\n",
       "      <td>0.6</td>\n",
       "      <td>4.8</td>\n",
       "      <td>8.5</td>\n",
       "      <td>13</td>\n",
       "      <td>44.0</td>\n",
       "      <td>13</td>\n",
       "      <td>14</td>\n",
       "      <td>...</td>\n",
       "      <td>71.0</td>\n",
       "      <td>22.0</td>\n",
       "      <td>1007.7</td>\n",
       "      <td>1007.1</td>\n",
       "      <td>8.0</td>\n",
       "      <td>5.0</td>\n",
       "      <td>16.9</td>\n",
       "      <td>21.8</td>\n",
       "      <td>0</td>\n",
       "      <td>0</td>\n",
       "    </tr>\n",
       "    <tr>\n",
       "      <th>1</th>\n",
       "      <td>2</td>\n",
       "      <td>7.4</td>\n",
       "      <td>25.1</td>\n",
       "      <td>0.0</td>\n",
       "      <td>4.8</td>\n",
       "      <td>8.5</td>\n",
       "      <td>14</td>\n",
       "      <td>44.0</td>\n",
       "      <td>6</td>\n",
       "      <td>15</td>\n",
       "      <td>...</td>\n",
       "      <td>44.0</td>\n",
       "      <td>25.0</td>\n",
       "      <td>1010.6</td>\n",
       "      <td>1007.8</td>\n",
       "      <td>5.0</td>\n",
       "      <td>5.0</td>\n",
       "      <td>17.2</td>\n",
       "      <td>24.3</td>\n",
       "      <td>0</td>\n",
       "      <td>0</td>\n",
       "    </tr>\n",
       "    <tr>\n",
       "      <th>2</th>\n",
       "      <td>2</td>\n",
       "      <td>12.9</td>\n",
       "      <td>25.7</td>\n",
       "      <td>0.0</td>\n",
       "      <td>4.8</td>\n",
       "      <td>8.5</td>\n",
       "      <td>15</td>\n",
       "      <td>46.0</td>\n",
       "      <td>13</td>\n",
       "      <td>15</td>\n",
       "      <td>...</td>\n",
       "      <td>38.0</td>\n",
       "      <td>30.0</td>\n",
       "      <td>1007.6</td>\n",
       "      <td>1008.7</td>\n",
       "      <td>5.0</td>\n",
       "      <td>2.0</td>\n",
       "      <td>21.0</td>\n",
       "      <td>23.2</td>\n",
       "      <td>0</td>\n",
       "      <td>0</td>\n",
       "    </tr>\n",
       "    <tr>\n",
       "      <th>3</th>\n",
       "      <td>2</td>\n",
       "      <td>9.2</td>\n",
       "      <td>28.0</td>\n",
       "      <td>0.0</td>\n",
       "      <td>4.8</td>\n",
       "      <td>8.5</td>\n",
       "      <td>4</td>\n",
       "      <td>24.0</td>\n",
       "      <td>9</td>\n",
       "      <td>0</td>\n",
       "      <td>...</td>\n",
       "      <td>45.0</td>\n",
       "      <td>16.0</td>\n",
       "      <td>1017.6</td>\n",
       "      <td>1012.8</td>\n",
       "      <td>5.0</td>\n",
       "      <td>5.0</td>\n",
       "      <td>18.1</td>\n",
       "      <td>26.5</td>\n",
       "      <td>0</td>\n",
       "      <td>0</td>\n",
       "    </tr>\n",
       "    <tr>\n",
       "      <th>4</th>\n",
       "      <td>2</td>\n",
       "      <td>17.5</td>\n",
       "      <td>32.3</td>\n",
       "      <td>1.0</td>\n",
       "      <td>4.8</td>\n",
       "      <td>8.5</td>\n",
       "      <td>13</td>\n",
       "      <td>41.0</td>\n",
       "      <td>1</td>\n",
       "      <td>7</td>\n",
       "      <td>...</td>\n",
       "      <td>82.0</td>\n",
       "      <td>33.0</td>\n",
       "      <td>1010.8</td>\n",
       "      <td>1006.0</td>\n",
       "      <td>7.0</td>\n",
       "      <td>8.0</td>\n",
       "      <td>17.8</td>\n",
       "      <td>29.7</td>\n",
       "      <td>0</td>\n",
       "      <td>0</td>\n",
       "    </tr>\n",
       "    <tr>\n",
       "      <th>...</th>\n",
       "      <td>...</td>\n",
       "      <td>...</td>\n",
       "      <td>...</td>\n",
       "      <td>...</td>\n",
       "      <td>...</td>\n",
       "      <td>...</td>\n",
       "      <td>...</td>\n",
       "      <td>...</td>\n",
       "      <td>...</td>\n",
       "      <td>...</td>\n",
       "      <td>...</td>\n",
       "      <td>...</td>\n",
       "      <td>...</td>\n",
       "      <td>...</td>\n",
       "      <td>...</td>\n",
       "      <td>...</td>\n",
       "      <td>...</td>\n",
       "      <td>...</td>\n",
       "      <td>...</td>\n",
       "      <td>...</td>\n",
       "      <td>...</td>\n",
       "    </tr>\n",
       "    <tr>\n",
       "      <th>145454</th>\n",
       "      <td>41</td>\n",
       "      <td>3.5</td>\n",
       "      <td>21.8</td>\n",
       "      <td>0.0</td>\n",
       "      <td>4.8</td>\n",
       "      <td>8.5</td>\n",
       "      <td>0</td>\n",
       "      <td>31.0</td>\n",
       "      <td>2</td>\n",
       "      <td>0</td>\n",
       "      <td>...</td>\n",
       "      <td>59.0</td>\n",
       "      <td>27.0</td>\n",
       "      <td>1024.7</td>\n",
       "      <td>1021.2</td>\n",
       "      <td>5.0</td>\n",
       "      <td>5.0</td>\n",
       "      <td>9.4</td>\n",
       "      <td>20.9</td>\n",
       "      <td>0</td>\n",
       "      <td>0</td>\n",
       "    </tr>\n",
       "    <tr>\n",
       "      <th>145455</th>\n",
       "      <td>41</td>\n",
       "      <td>2.8</td>\n",
       "      <td>23.4</td>\n",
       "      <td>0.0</td>\n",
       "      <td>4.8</td>\n",
       "      <td>8.5</td>\n",
       "      <td>0</td>\n",
       "      <td>31.0</td>\n",
       "      <td>9</td>\n",
       "      <td>1</td>\n",
       "      <td>...</td>\n",
       "      <td>51.0</td>\n",
       "      <td>24.0</td>\n",
       "      <td>1024.6</td>\n",
       "      <td>1020.3</td>\n",
       "      <td>5.0</td>\n",
       "      <td>5.0</td>\n",
       "      <td>10.1</td>\n",
       "      <td>22.4</td>\n",
       "      <td>0</td>\n",
       "      <td>0</td>\n",
       "    </tr>\n",
       "    <tr>\n",
       "      <th>145456</th>\n",
       "      <td>41</td>\n",
       "      <td>3.6</td>\n",
       "      <td>25.3</td>\n",
       "      <td>0.0</td>\n",
       "      <td>4.8</td>\n",
       "      <td>8.5</td>\n",
       "      <td>6</td>\n",
       "      <td>22.0</td>\n",
       "      <td>9</td>\n",
       "      <td>3</td>\n",
       "      <td>...</td>\n",
       "      <td>56.0</td>\n",
       "      <td>21.0</td>\n",
       "      <td>1023.5</td>\n",
       "      <td>1019.1</td>\n",
       "      <td>5.0</td>\n",
       "      <td>5.0</td>\n",
       "      <td>10.9</td>\n",
       "      <td>24.5</td>\n",
       "      <td>0</td>\n",
       "      <td>0</td>\n",
       "    </tr>\n",
       "    <tr>\n",
       "      <th>145457</th>\n",
       "      <td>41</td>\n",
       "      <td>5.4</td>\n",
       "      <td>26.9</td>\n",
       "      <td>0.0</td>\n",
       "      <td>4.8</td>\n",
       "      <td>8.5</td>\n",
       "      <td>3</td>\n",
       "      <td>37.0</td>\n",
       "      <td>9</td>\n",
       "      <td>14</td>\n",
       "      <td>...</td>\n",
       "      <td>53.0</td>\n",
       "      <td>24.0</td>\n",
       "      <td>1021.0</td>\n",
       "      <td>1016.8</td>\n",
       "      <td>5.0</td>\n",
       "      <td>5.0</td>\n",
       "      <td>12.5</td>\n",
       "      <td>26.1</td>\n",
       "      <td>0</td>\n",
       "      <td>0</td>\n",
       "    </tr>\n",
       "    <tr>\n",
       "      <th>145458</th>\n",
       "      <td>41</td>\n",
       "      <td>7.8</td>\n",
       "      <td>27.0</td>\n",
       "      <td>0.0</td>\n",
       "      <td>4.8</td>\n",
       "      <td>8.5</td>\n",
       "      <td>9</td>\n",
       "      <td>28.0</td>\n",
       "      <td>10</td>\n",
       "      <td>3</td>\n",
       "      <td>...</td>\n",
       "      <td>51.0</td>\n",
       "      <td>24.0</td>\n",
       "      <td>1019.4</td>\n",
       "      <td>1016.5</td>\n",
       "      <td>3.0</td>\n",
       "      <td>2.0</td>\n",
       "      <td>15.1</td>\n",
       "      <td>26.0</td>\n",
       "      <td>0</td>\n",
       "      <td>0</td>\n",
       "    </tr>\n",
       "  </tbody>\n",
       "</table>\n",
       "<p>142193 rows × 22 columns</p>\n",
       "</div>"
      ]
     },
     "execution_count": 109,
     "metadata": {},
     "output_type": "execute_result"
    }
   ],
   "source": [
    "df1= label_encoding_filling_null(df1)\n",
    "df1"
   ]
  },
  {
   "attachments": {},
   "cell_type": "markdown",
   "id": "b0257ec6-190f-4477-bf00-f8ed54fd8f1a",
   "metadata": {},
   "source": [
    "# Spliting data into training and testing"
   ]
  },
  {
   "cell_type": "code",
   "execution_count": 110,
   "id": "3738b27c-8b28-4f12-aac4-d10f3bf9f0d0",
   "metadata": {},
   "outputs": [],
   "source": [
    "# We need to create a node\n",
    "def  split_data(df1):\n",
    "\n",
    "    \"\"\"Splits data into features and targets training and test sets.\n",
    "    Args:\n",
    "        data: Data containing features and target.\n",
    "    Returns:\n",
    "        Split data.\n",
    "    \"\"\"\n",
    "    X = df1.drop(['RainTomorrow'], axis=1)\n",
    "\n",
    "    y = df1['RainTomorrow']\n",
    "    \n",
    "                # split X and y into training and testing sets\n",
    "    from sklearn.model_selection import train_test_split\n",
    "    X_train, X_test, y_train, y_test = train_test_split(X, y, test_size = 0.2, random_state = 0)\n",
    "    \n",
    "    return X_train, X_test, y_train, y_test\n"
   ]
  },
  {
   "cell_type": "code",
   "execution_count": 111,
   "id": "8fc8d09a-c2a2-40f7-8515-3cad4f651a82",
   "metadata": {},
   "outputs": [],
   "source": [
    " X_train, X_test, y_train, y_test= split_data(df1)\n"
   ]
  },
  {
   "cell_type": "code",
   "execution_count": 112,
   "id": "659e8aaf-6d76-43d3-a8c6-75ed93771c39",
   "metadata": {},
   "outputs": [
    {
     "name": "stdout",
     "output_type": "stream",
     "text": [
      "(113754, 21) (28439, 21)\n"
     ]
    }
   ],
   "source": [
    "# check the shape of X_train and X_test\n",
    "print(X_train.shape, X_test.shape)"
   ]
  },
  {
   "attachments": {},
   "cell_type": "markdown",
   "id": "3fd4380c-8ee7-4edb-bfab-8b03a92d8bdf",
   "metadata": {},
   "source": [
    "# Training model"
   ]
  },
  {
   "cell_type": "code",
   "execution_count": 113,
   "id": "5960dbfc-d8f1-47a6-8c79-b1040a0aacb9",
   "metadata": {},
   "outputs": [],
   "source": [
    "# train a logistic regression model on the training set\n",
    "from sklearn.linear_model import LogisticRegression"
   ]
  },
  {
   "cell_type": "code",
   "execution_count": 114,
   "id": "76870997-1de8-44b7-883b-3fd49a164d19",
   "metadata": {},
   "outputs": [],
   "source": [
    "def train_model(X_train: pd.DataFrame, y_train: pd.Series) -> LogisticRegression:\n",
    "    \"\"\"Trains the logistic regression model.\n",
    "    Args:\n",
    "        X_train: Training data of independent features.\n",
    "        y_train: Training data for price.\n",
    "    Returns:\n",
    "        Trained model.\n",
    "    \"\"\"\n",
    "    # instantiate the model\n",
    "    logreg = LogisticRegression(solver='liblinear', random_state=0)\n",
    "\n",
    "   # fit the model\n",
    "    logreg.fit(X_train, y_train)\n",
    "    return logreg"
   ]
  },
  {
   "cell_type": "code",
   "execution_count": 115,
   "id": "b8df3ed8-e8a5-4933-9993-7384065de617",
   "metadata": {},
   "outputs": [],
   "source": [
    " logreg= train_model(X_train, y_train)"
   ]
  },
  {
   "attachments": {},
   "cell_type": "markdown",
   "id": "e118c34a-bebf-451b-811b-b41d033941d3",
   "metadata": {},
   "source": [
    "# Model evaluation"
   ]
  },
  {
   "cell_type": "code",
   "execution_count": null,
   "id": "3934c1ef-8143-446e-adcf-6c9cec5ab374",
   "metadata": {},
   "outputs": [],
   "source": [
    "def evaluate_model(\n",
    "    logreg: LogisticRegression, X_test: pd.DataFrame, y_test: pd.Series\n",
    "):\n",
    "    \"\"\"Calculates and logs the coefficient of determination.\n",
    "    Args:\n",
    "        logreg: Trained model.\n",
    "        X_test: Testing data of independent features.\n",
    "        y_test: Testing data for price.\n",
    "        \n",
    "    Returns:\n",
    "        y_pred_test:prediction on x test\n",
    "        acc        :accuracy_score\n",
    "    \"\"\"\n",
    "    y_pred_test = logreg.predict(X_test)\n",
    "    #**Check accuracy score**\n",
    "    from sklearn.metrics import accuracy_score\n",
    "    acc=(accuracy_score(y_test, y_pred_test))\n",
    "    print('Model accuracy score: ', acc)\n",
    "    return(y_pred_test,acc)"
   ]
  },
  {
   "cell_type": "code",
   "execution_count": null,
   "id": "f7f6ac9f-055f-4475-8d12-0cc937b066ba",
   "metadata": {
    "tags": []
   },
   "outputs": [
    {
     "name": "stdout",
     "output_type": "stream",
     "text": [
      "Model accuracy score:  0.8429972924505081\n"
     ]
    }
   ],
   "source": [
    "y_pred_test,acc_lrg=evaluate_model(logreg, X_test, y_test)"
   ]
  },
  {
   "attachments": {},
   "cell_type": "markdown",
   "id": "78f179a4-ea12-497f-b40e-f42ce9cab338",
   "metadata": {},
   "source": [
    "# Confusion matrix and Classification report"
   ]
  },
  {
   "cell_type": "code",
   "execution_count": null,
   "id": "2035ba2f-b70c-427a-b64f-a57dee568450",
   "metadata": {},
   "outputs": [],
   "source": [
    "# Print the Confusion Matrix and slice it into four pieces\n",
    "\n",
    "from sklearn.metrics import confusion_matrix\n",
    "#import classification regression\n",
    "from sklearn.metrics import classification_report"
   ]
  },
  {
   "cell_type": "code",
   "execution_count": null,
   "id": "5a9c0c92-995f-41e1-acd3-d38213a735ec",
   "metadata": {},
   "outputs": [],
   "source": [
    "def final_report(y_test: pd.Series, y_pred_test: pd.Series):\n",
    "    \"\"\"Calculates and logs the coefficient of determination.\n",
    "    Args:\n",
    "        y_test_pred: prediction on training model\n",
    "        y_test: Testing data for price.\n",
    "    \"\"\"\n",
    "    cm = confusion_matrix(y_test, y_pred_test)\n",
    "    # visualize confusion matrix with seaborn heatmap\n",
    "\n",
    "    cm_matrix = pd.DataFrame(data=cm, columns=['Actual Positive:1', 'Actual Negative:0'], \n",
    "                                     index=['Predict Positive:1', 'Predict Negative:0'])\n",
    "\n",
    "    sns.heatmap(cm_matrix, annot=True, fmt='d', cmap='YlGnBu')\n",
    "    \n",
    "    print(classification_report(y_test, y_pred_test))"
   ]
  },
  {
   "cell_type": "code",
   "execution_count": null,
   "id": "93c61835-c26e-4c35-934f-0896c4f812d7",
   "metadata": {},
   "outputs": [
    {
     "name": "stdout",
     "output_type": "stream",
     "text": [
      "              precision    recall  f1-score   support\n",
      "\n",
      "           0       0.86      0.95      0.90     22067\n",
      "           1       0.72      0.49      0.58      6372\n",
      "\n",
      "    accuracy                           0.84     28439\n",
      "   macro avg       0.79      0.72      0.74     28439\n",
      "weighted avg       0.83      0.84      0.83     28439\n",
      "\n"
     ]
    },
    {
     "data": {
      "image/png": "[encoded data removed]"
     },
     "metadata": {},
     "output_type": "display_data"
    }
   ],
   "source": [
    "final_report(y_test,y_pred_test)"
   ]
  },
  {
   "attachments": {},
   "cell_type": "markdown",
   "id": "57396ca5-a6d1-4245-b5b6-e32e64019609",
   "metadata": {},
   "source": [
    "# Other model testing"
   ]
  },
  {
   "cell_type": "code",
   "execution_count": null,
   "id": "e7c6889b-806e-4e75-b906-6ebedb85f5dc",
   "metadata": {},
   "outputs": [],
   "source": [
    "from sklearn.svm import SVC\n",
    "from sklearn.ensemble import RandomForestClassifier\n",
    "from sklearn.neighbors import KNeighborsClassifier\n",
    "from sklearn.tree import DecisionTreeClassifier"
   ]
  },
  {
   "attachments": {},
   "cell_type": "markdown",
   "id": "3c5dafb8-7a6d-4397-bcc2-c4ccc6f66407",
   "metadata": {},
   "source": [
    "# SVC model training"
   ]
  },
  {
   "cell_type": "code",
   "execution_count": null,
   "id": "ee28b167-8084-4fa0-8f22-0500c46afd12",
   "metadata": {},
   "outputs": [],
   "source": [
    "def train_model(X_train: pd.DataFrame, y_train: pd.Series) -> SVC:\n",
    "    \"\"\"Trains the SVC model.\n",
    "    Args:\n",
    "        X_train: Training data of independent features.\n",
    "        y_train: Training data for price.\n",
    "    Returns:\n",
    "        Trained model.\n",
    "    \"\"\"\n",
    "    # instantiate the model\n",
    "    svc = SVC()\n",
    "\n",
    "   # fit the model\n",
    "    svc.fit(X_train, y_train)\n",
    "    return svc"
   ]
  },
  {
   "cell_type": "code",
   "execution_count": null,
   "id": "00fac02a-d9d5-4021-95ad-66b2b0176731",
   "metadata": {},
   "outputs": [],
   "source": [
    " svc= train_model(X_train, y_train)"
   ]
  },
  {
   "attachments": {},
   "cell_type": "markdown",
   "id": "89ea9302-583d-4488-babc-c9a24526f5e9",
   "metadata": {},
   "source": [
    "# SVC Model Evaluation"
   ]
  },
  {
   "cell_type": "code",
   "execution_count": null,
   "id": "d405d28f-3320-4a75-a18a-489ea5756a12",
   "metadata": {},
   "outputs": [],
   "source": [
    "def evaluate_model(\n",
    "    svc: SVC(), X_test: pd.DataFrame, y_test: pd.Series\n",
    "):\n",
    "    \"\"\"Calculates and logs the coefficient of determination.\n",
    "    Args:\n",
    "        svc: Trained model.\n",
    "        X_test: Testing data of independent features.\n",
    "        y_test: Testing data for price.\n",
    "        \n",
    "    Returns:\n",
    "        y_pred_test:prediction on x test\n",
    "        acc        :accuracy_score\n",
    "    \"\"\"\n",
    "    y_pred_test = svc.predict(X_test)\n",
    "    #**Check accuracy score**\n",
    "    from sklearn.metrics import accuracy_score\n",
    "    acc=(accuracy_score(y_test, y_pred_test))\n",
    "    print('Model accuracy score: ', acc)\n",
    "    return(y_pred_test,acc)"
   ]
  },
  {
   "cell_type": "code",
   "execution_count": null,
   "id": "a7a3d529-6ebc-4c5e-8f3e-a49e79da8b7c",
   "metadata": {},
   "outputs": [
    {
     "name": "stdout",
     "output_type": "stream",
     "text": [
      "Model accuracy score:  0.8379689862512747\n"
     ]
    }
   ],
   "source": [
    "y_pred_test,acc_svc=evaluate_model(svc, X_test, y_test)"
   ]
  },
  {
   "attachments": {},
   "cell_type": "markdown",
   "id": "90aa34d0-04b3-4cb1-8169-6614c4c661e7",
   "metadata": {},
   "source": [
    "# RandomForestClassifier model training"
   ]
  },
  {
   "cell_type": "code",
   "execution_count": null,
   "id": "66084193-228e-40e6-8915-c012f22cb825",
   "metadata": {},
   "outputs": [],
   "source": [
    "def train_model_rf(X_train: pd.DataFrame, y_train: pd.Series) :\n",
    "    \"\"\"Trains the RandomForestClassifier.\n",
    "    Args:\n",
    "        X_train: Training data of independent features.\n",
    "        y_train: Training data for price.\n",
    "    Returns:\n",
    "        Trained model.\n",
    "    \"\"\"\n",
    "    # instantiate the model\n",
    "    random_forest = RandomForestClassifier(n_estimators=100)\n",
    "\n",
    "   # fit the model\n",
    "    random_forest.fit(X_train, y_train)\n",
    "    return random_forest"
   ]
  },
  {
   "cell_type": "code",
   "execution_count": null,
   "id": "87c63daa-1030-413f-acb3-55f917ddd381",
   "metadata": {},
   "outputs": [],
   "source": [
    "random_forest = train_model_rf(X_train, y_train)"
   ]
  },
  {
   "attachments": {},
   "cell_type": "markdown",
   "id": "d47fddfa-f96f-4881-90e9-f1ae43cb7b30",
   "metadata": {},
   "source": [
    "# RandomForestClassifier Model Evaluation"
   ]
  },
  {
   "cell_type": "code",
   "execution_count": null,
   "id": "c1b681fe-597c-404b-846e-2ea200485078",
   "metadata": {},
   "outputs": [],
   "source": [
    "def evaluate_model_rf(\n",
    "     random_forest :RandomForestClassifier(),X_test: pd.DataFrame, y_test: pd.Series\n",
    "):\n",
    "    \"\"\"Calculates and logs the coefficient of determination.\n",
    "    Args:\n",
    "        random_forest: Trained model.\n",
    "        X_test: Testing data of independent features.\n",
    "        y_test: Testing data for price.\n",
    "        \n",
    "    Returns:\n",
    "        y_pred_test:prediction on x test\n",
    "        acc        :accuracy_score\n",
    "    \"\"\"\n",
    "    y_pred_test =  random_forest.predict(X_test)\n",
    "    #**Check accuracy score**\n",
    "    from sklearn.metrics import accuracy_score\n",
    "    acc=(accuracy_score(y_test, y_pred_test))\n",
    "    print('Model accuracy score: ', acc)\n",
    "    return(y_pred_test,acc)"
   ]
  },
  {
   "cell_type": "code",
   "execution_count": null,
   "id": "f5a6e36b-a374-4da4-9ef2-76ba8e71a2a1",
   "metadata": {},
   "outputs": [
    {
     "name": "stdout",
     "output_type": "stream",
     "text": [
      "Model accuracy score:  0.8587854706564928\n"
     ]
    }
   ],
   "source": [
    "y_pred_test,acc_rfc=evaluate_model_rf(random_forest, X_test, y_test)"
   ]
  },
  {
   "attachments": {},
   "cell_type": "markdown",
   "id": "63698c5d-ee86-4449-b7c0-eae8617f3fc8",
   "metadata": {},
   "source": [
    "# DecisionTreeClassifier model training"
   ]
  },
  {
   "cell_type": "code",
   "execution_count": null,
   "id": "a49c2e9c-f0cc-4fca-b422-8ff1b0f6b725",
   "metadata": {},
   "outputs": [],
   "source": [
    "def train_model_dt(X_train: pd.DataFrame, y_train: pd.Series)  :\n",
    "    \"\"\"Trains the DecisionTreeClassifier model.\n",
    "    Args:\n",
    "        X_train: Training data of independent features.\n",
    "        y_train: Training data for price.\n",
    "    Returns:\n",
    "        Trained model.\n",
    "    \"\"\"\n",
    "    # instantiate the model\n",
    "    decision_tree = DecisionTreeClassifier()\n",
    "\n",
    "   # fit the model\n",
    "    decision_tree.fit(X_train, y_train)\n",
    "    return  decision_tree"
   ]
  },
  {
   "cell_type": "code",
   "execution_count": null,
   "id": "5829b35f-488e-4a1f-a3d4-87c50333cc90",
   "metadata": {},
   "outputs": [],
   "source": [
    " decision_tree = train_model_dt(X_train, y_train)"
   ]
  },
  {
   "attachments": {},
   "cell_type": "markdown",
   "id": "76c13828-8688-48c2-abe2-bf2aa172abba",
   "metadata": {},
   "source": [
    "# DecisionTreeClassifier Model Evaluation"
   ]
  },
  {
   "cell_type": "code",
   "execution_count": null,
   "id": "b640b006-1d48-45b3-935e-7bfe5e8fd576",
   "metadata": {},
   "outputs": [],
   "source": [
    "from sklearn.base import accuracy_score\n",
    "\n",
    "\n",
    "def evaluate_model_dt(\n",
    "     decision_tree : DecisionTreeClassifier(),X_test: pd.DataFrame, y_test: pd.Series\n",
    "):\n",
    "    \"\"\"Calculates and logs the coefficient of determination.\n",
    "    Args:\n",
    "        decision_tree: Trained model.\n",
    "        X_test: Testing data of independent features.\n",
    "        y_test: Testing data for price.\n",
    "        \n",
    "    Returns:\n",
    "        y_pred_test:prediction on x test\n",
    "        acc        :accuracy_score\n",
    "    \"\"\"\n",
    "    y_pred_test =   decision_tree.predict(X_test)\n",
    "    #**Check accuracy score**\n",
    "    acc=(accuracy_score(y_test, y_pred_test))\n",
    "    print('Model accuracy score: ', acc)\n",
    "    return(y_pred_test,acc)"
   ]
  },
  {
   "cell_type": "code",
   "execution_count": null,
   "id": "9f3b946a-62ae-4a42-b44f-fc67ea906eab",
   "metadata": {},
   "outputs": [
    {
     "name": "stdout",
     "output_type": "stream",
     "text": [
      "Model accuracy score:  0.7882836949259819\n"
     ]
    }
   ],
   "source": [
    "y_pred_test,acc_dtc=evaluate_model_dt(decision_tree, X_test, y_test)"
   ]
  },
  {
   "attachments": {},
   "cell_type": "markdown",
   "id": "9970a5ab-22f1-4d90-8f87-90d3ec1c93e2",
   "metadata": {},
   "source": [
    "# KNeighborsClassifier model training"
   ]
  },
  {
   "cell_type": "code",
   "execution_count": null,
   "id": "e231fc12-f00e-4f7a-b10f-e485f12f07d3",
   "metadata": {},
   "outputs": [],
   "source": [
    "def train_model_knn(X_train: pd.DataFrame, y_train: pd.Series)  :\n",
    "    \"\"\"Trains the KNeighborsClassifier Model.\n",
    "    Args:\n",
    "        X_train: Training data of independent features.\n",
    "        y_train: Training data for price.\n",
    "    Returns:\n",
    "        Trained model.\n",
    "    \"\"\"\n",
    "    # instantiate the model\n",
    "    knn = KNeighborsClassifier(n_neighbors = 3)\n",
    "\n",
    "   # fit the model\n",
    "    knn.fit(X_train, y_train)\n",
    "    return  knn"
   ]
  },
  {
   "cell_type": "code",
   "execution_count": null,
   "id": "dd1dddaf-e1e8-4022-a42e-4a9b21e4b2dc",
   "metadata": {},
   "outputs": [],
   "source": [
    " knn = train_model_knn(X_train, y_train)"
   ]
  },
  {
   "attachments": {},
   "cell_type": "markdown",
   "id": "20d04815-6027-4a1f-a35e-ac0c14db65c5",
   "metadata": {},
   "source": [
    "# KNeighborsClassifier Model Evaluation"
   ]
  },
  {
   "cell_type": "code",
   "execution_count": null,
   "id": "d3678ada-e73d-4e75-8a4e-6d1c281b9dbb",
   "metadata": {},
   "outputs": [],
   "source": [
    "def evaluate_model(\n",
    "      knn : KNeighborsClassifier(),X_test: pd.DataFrame, y_test: pd.Series\n",
    "):\n",
    "    \"\"\"Calculates and logs the coefficient of determination.\n",
    "    Args:\n",
    "        knn: Trained model.\n",
    "        X_test: Testing data of independent features.\n",
    "        y_test: Testing data for price.\n",
    "        \n",
    "    Returns:\n",
    "        y_pred_test:prediction on x test\n",
    "        acc        :accuracy_score\n",
    "    \"\"\"\n",
    "    y_pred_test =   knn.predict(X_test)\n",
    "    #**Check accuracy score**\n",
    "    from sklearn.metrics import accuracy_score\n",
    "    acc=(accuracy_score(y_test, y_pred_test))\n",
    "    print('Model accuracy score: ', acc)\n",
    "    return(y_pred_test,acc)"
   ]
  },
  {
   "cell_type": "code",
   "execution_count": null,
   "id": "4bf54a6a-13dc-4302-8ca0-c1d2ea1b8e42",
   "metadata": {},
   "outputs": [
    {
     "name": "stdout",
     "output_type": "stream",
     "text": [
      "Model accuracy score:  0.8313583459334013\n"
     ]
    }
   ],
   "source": [
    "y_pred_test,acc_knn=evaluate_model(knn, X_test, y_test)"
   ]
  },
  {
   "attachments": {},
   "cell_type": "markdown",
   "id": "51769db4-b41e-4bbc-b1c9-821a4f2be154",
   "metadata": {},
   "source": [
    "# Final report"
   ]
  },
  {
   "cell_type": "code",
   "execution_count": null,
   "id": "63bde3d9-48a9-42a9-a5d3-9d41205e374f",
   "metadata": {},
   "outputs": [
    {
     "data": {
      "text/html": [
       "<div>\n",
       "<style scoped>\n",
       "    .dataframe tbody tr th:only-of-type {\n",
       "        vertical-align: middle;\n",
       "    }\n",
       "\n",
       "    .dataframe tbody tr th {\n",
       "        vertical-align: top;\n",
       "    }\n",
       "\n",
       "    .dataframe thead th {\n",
       "        text-align: right;\n",
       "    }\n",
       "</style>\n",
       "<table border=\"1\" class=\"dataframe\">\n",
       "  <thead>\n",
       "    <tr style=\"text-align: right;\">\n",
       "      <th></th>\n",
       "      <th>Model</th>\n",
       "      <th>Score</th>\n",
       "    </tr>\n",
       "  </thead>\n",
       "  <tbody>\n",
       "    <tr>\n",
       "      <th>0</th>\n",
       "      <td>LogisticRegression</td>\n",
       "      <td>0.842997</td>\n",
       "    </tr>\n",
       "    <tr>\n",
       "      <th>1</th>\n",
       "      <td>SVC</td>\n",
       "      <td>0.837969</td>\n",
       "    </tr>\n",
       "    <tr>\n",
       "      <th>2</th>\n",
       "      <td>KNN</td>\n",
       "      <td>0.858785</td>\n",
       "    </tr>\n",
       "    <tr>\n",
       "      <th>3</th>\n",
       "      <td>Random Forest</td>\n",
       "      <td>0.788284</td>\n",
       "    </tr>\n",
       "    <tr>\n",
       "      <th>4</th>\n",
       "      <td>Decision Tree</td>\n",
       "      <td>0.801959</td>\n",
       "    </tr>\n",
       "  </tbody>\n",
       "</table>\n",
       "</div>"
      ]
     },
     "execution_count": 295,
     "metadata": {},
     "output_type": "execute_result"
    }
   ],
   "source": [
    "models = pd.DataFrame({\n",
    "    'Model': ['LogisticRegression','SVC', 'KNN', \n",
    "              'Random Forest', 'Decision Tree',],\n",
    "    'Score': [acc_lrg,acc_svc,acc_rfc,acc_dtc,acc_knn]})\n",
    "models"
   ]
  },
  {
   "attachments": {},
   "cell_type": "markdown",
   "id": "92935645-6a6b-4e25-b265-38d7749544c4",
   "metadata": {},
   "source": [
    "# Pickiling and Unpickling of the model"
   ]
  },
  {
   "cell_type": "code",
   "execution_count": null,
   "id": "bff01180-e9fc-42ed-a5a5-3156349e9195",
   "metadata": {},
   "outputs": [],
   "source": [
    "#Use pickle to save our model so that we can use it later\n",
    "\n",
    "import pickle \n",
    "# Saving model to disk\n",
    "pickle.dump(knn, open('model.pkl','wb'))\n",
    "model=pickle.load(open('model.pkl','rb'))"
   ]
  },
  {
   "cell_type": "code",
   "execution_count": null,
   "id": "72dab63b-4a6e-42c6-873a-80feab782c4e",
   "metadata": {},
   "outputs": [],
   "source": [
    "infile = open('model.pkl','rb')\n",
    "model1 = pickle.load(infile)\n",
    "infile.close()"
   ]
  },
  {
   "cell_type": "code",
   "execution_count": null,
   "id": "a0388472-1391-415f-a03f-3c4096873bdd",
   "metadata": {},
   "outputs": [
    {
     "data": {
      "text/html": [
       "<style>#sk-container-id-10 {color: black;background-color: white;}#sk-container-id-10 pre{padding: 0;}#sk-container-id-10 div.sk-toggleable {background-color: white;}#sk-container-id-10 label.sk-toggleable__label {cursor: pointer;display: block;width: 100%;margin-bottom: 0;padding: 0.3em;box-sizing: border-box;text-align: center;}#sk-container-id-10 label.sk-toggleable__label-arrow:before {content: \"▸\";float: left;margin-right: 0.25em;color: #696969;}#sk-container-id-10 label.sk-toggleable__label-arrow:hover:before {color: black;}#sk-container-id-10 div.sk-estimator:hover label.sk-toggleable__label-arrow:before {color: black;}#sk-container-id-10 div.sk-toggleable__content {max-height: 0;max-width: 0;overflow: hidden;text-align: left;background-color: #f0f8ff;}#sk-container-id-10 div.sk-toggleable__content pre {margin: 0.2em;color: black;border-radius: 0.25em;background-color: #f0f8ff;}#sk-container-id-10 input.sk-toggleable__control:checked~div.sk-toggleable__content {max-height: 200px;max-width: 100%;overflow: auto;}#sk-container-id-10 input.sk-toggleable__control:checked~label.sk-toggleable__label-arrow:before {content: \"▾\";}#sk-container-id-10 div.sk-estimator input.sk-toggleable__control:checked~label.sk-toggleable__label {background-color: #d4ebff;}#sk-container-id-10 div.sk-label input.sk-toggleable__control:checked~label.sk-toggleable__label {background-color: #d4ebff;}#sk-container-id-10 input.sk-hidden--visually {border: 0;clip: rect(1px 1px 1px 1px);clip: rect(1px, 1px, 1px, 1px);height: 1px;margin: -1px;overflow: hidden;padding: 0;position: absolute;width: 1px;}#sk-container-id-10 div.sk-estimator {font-family: monospace;background-color: #f0f8ff;border: 1px dotted black;border-radius: 0.25em;box-sizing: border-box;margin-bottom: 0.5em;}#sk-container-id-10 div.sk-estimator:hover {background-color: #d4ebff;}#sk-container-id-10 div.sk-parallel-item::after {content: \"\";width: 100%;border-bottom: 1px solid gray;flex-grow: 1;}#sk-container-id-10 div.sk-label:hover label.sk-toggleable__label {background-color: #d4ebff;}#sk-container-id-10 div.sk-serial::before {content: \"\";position: absolute;border-left: 1px solid gray;box-sizing: border-box;top: 0;bottom: 0;left: 50%;z-index: 0;}#sk-container-id-10 div.sk-serial {display: flex;flex-direction: column;align-items: center;background-color: white;padding-right: 0.2em;padding-left: 0.2em;position: relative;}#sk-container-id-10 div.sk-item {position: relative;z-index: 1;}#sk-container-id-10 div.sk-parallel {display: flex;align-items: stretch;justify-content: center;background-color: white;position: relative;}#sk-container-id-10 div.sk-item::before, #sk-container-id-10 div.sk-parallel-item::before {content: \"\";position: absolute;border-left: 1px solid gray;box-sizing: border-box;top: 0;bottom: 0;left: 50%;z-index: -1;}#sk-container-id-10 div.sk-parallel-item {display: flex;flex-direction: column;z-index: 1;position: relative;background-color: white;}#sk-container-id-10 div.sk-parallel-item:first-child::after {align-self: flex-end;width: 50%;}#sk-container-id-10 div.sk-parallel-item:last-child::after {align-self: flex-start;width: 50%;}#sk-container-id-10 div.sk-parallel-item:only-child::after {width: 0;}#sk-container-id-10 div.sk-dashed-wrapped {border: 1px dashed gray;margin: 0 0.4em 0.5em 0.4em;box-sizing: border-box;padding-bottom: 0.4em;background-color: white;}#sk-container-id-10 div.sk-label label {font-family: monospace;font-weight: bold;display: inline-block;line-height: 1.2em;}#sk-container-id-10 div.sk-label-container {text-align: center;}#sk-container-id-10 div.sk-container {/* jupyter's `normalize.less` sets `[hidden] { display: none; }` but bootstrap.min.css set `[hidden] { display: none !important; }` so we also need the `!important` here to be able to override the default hidden behavior on the sphinx rendered scikit-learn.org. See: https://github.com/scikit-learn/scikit-learn/issues/21755 */display: inline-block !important;position: relative;}#sk-container-id-10 div.sk-text-repr-fallback {display: none;}</style><div id=\"sk-container-id-10\" class=\"sk-top-container\"><div class=\"sk-text-repr-fallback\"><pre>KNeighborsClassifier(n_neighbors=3)</pre><b>In a Jupyter environment, please rerun this cell to show the HTML representation or trust the notebook. <br />On GitHub, the HTML representation is unable to render, please try loading this page with nbviewer.org.</b></div><div class=\"sk-container\" hidden><div class=\"sk-item\"><div class=\"sk-estimator sk-toggleable\"><input class=\"sk-toggleable__control sk-hidden--visually\" id=\"sk-estimator-id-10\" type=\"checkbox\" checked><label for=\"sk-estimator-id-10\" class=\"sk-toggleable__label sk-toggleable__label-arrow\">KNeighborsClassifier</label><div class=\"sk-toggleable__content\"><pre>KNeighborsClassifier(n_neighbors=3)</pre></div></div></div></div></div>"
      ],
      "text/plain": [
       "KNeighborsClassifier(n_neighbors=3)"
      ]
     },
     "execution_count": 281,
     "metadata": {},
     "output_type": "execute_result"
    }
   ],
   "source": [
    "knn"
   ]
  },
  {
   "cell_type": "code",
   "execution_count": null,
   "id": "57c786d5-3e2c-432f-a1d6-a6d51c7484dc",
   "metadata": {},
   "outputs": [
    {
     "data": {
      "text/html": [
       "<style>#sk-container-id-11 {color: black;background-color: white;}#sk-container-id-11 pre{padding: 0;}#sk-container-id-11 div.sk-toggleable {background-color: white;}#sk-container-id-11 label.sk-toggleable__label {cursor: pointer;display: block;width: 100%;margin-bottom: 0;padding: 0.3em;box-sizing: border-box;text-align: center;}#sk-container-id-11 label.sk-toggleable__label-arrow:before {content: \"▸\";float: left;margin-right: 0.25em;color: #696969;}#sk-container-id-11 label.sk-toggleable__label-arrow:hover:before {color: black;}#sk-container-id-11 div.sk-estimator:hover label.sk-toggleable__label-arrow:before {color: black;}#sk-container-id-11 div.sk-toggleable__content {max-height: 0;max-width: 0;overflow: hidden;text-align: left;background-color: #f0f8ff;}#sk-container-id-11 div.sk-toggleable__content pre {margin: 0.2em;color: black;border-radius: 0.25em;background-color: #f0f8ff;}#sk-container-id-11 input.sk-toggleable__control:checked~div.sk-toggleable__content {max-height: 200px;max-width: 100%;overflow: auto;}#sk-container-id-11 input.sk-toggleable__control:checked~label.sk-toggleable__label-arrow:before {content: \"▾\";}#sk-container-id-11 div.sk-estimator input.sk-toggleable__control:checked~label.sk-toggleable__label {background-color: #d4ebff;}#sk-container-id-11 div.sk-label input.sk-toggleable__control:checked~label.sk-toggleable__label {background-color: #d4ebff;}#sk-container-id-11 input.sk-hidden--visually {border: 0;clip: rect(1px 1px 1px 1px);clip: rect(1px, 1px, 1px, 1px);height: 1px;margin: -1px;overflow: hidden;padding: 0;position: absolute;width: 1px;}#sk-container-id-11 div.sk-estimator {font-family: monospace;background-color: #f0f8ff;border: 1px dotted black;border-radius: 0.25em;box-sizing: border-box;margin-bottom: 0.5em;}#sk-container-id-11 div.sk-estimator:hover {background-color: #d4ebff;}#sk-container-id-11 div.sk-parallel-item::after {content: \"\";width: 100%;border-bottom: 1px solid gray;flex-grow: 1;}#sk-container-id-11 div.sk-label:hover label.sk-toggleable__label {background-color: #d4ebff;}#sk-container-id-11 div.sk-serial::before {content: \"\";position: absolute;border-left: 1px solid gray;box-sizing: border-box;top: 0;bottom: 0;left: 50%;z-index: 0;}#sk-container-id-11 div.sk-serial {display: flex;flex-direction: column;align-items: center;background-color: white;padding-right: 0.2em;padding-left: 0.2em;position: relative;}#sk-container-id-11 div.sk-item {position: relative;z-index: 1;}#sk-container-id-11 div.sk-parallel {display: flex;align-items: stretch;justify-content: center;background-color: white;position: relative;}#sk-container-id-11 div.sk-item::before, #sk-container-id-11 div.sk-parallel-item::before {content: \"\";position: absolute;border-left: 1px solid gray;box-sizing: border-box;top: 0;bottom: 0;left: 50%;z-index: -1;}#sk-container-id-11 div.sk-parallel-item {display: flex;flex-direction: column;z-index: 1;position: relative;background-color: white;}#sk-container-id-11 div.sk-parallel-item:first-child::after {align-self: flex-end;width: 50%;}#sk-container-id-11 div.sk-parallel-item:last-child::after {align-self: flex-start;width: 50%;}#sk-container-id-11 div.sk-parallel-item:only-child::after {width: 0;}#sk-container-id-11 div.sk-dashed-wrapped {border: 1px dashed gray;margin: 0 0.4em 0.5em 0.4em;box-sizing: border-box;padding-bottom: 0.4em;background-color: white;}#sk-container-id-11 div.sk-label label {font-family: monospace;font-weight: bold;display: inline-block;line-height: 1.2em;}#sk-container-id-11 div.sk-label-container {text-align: center;}#sk-container-id-11 div.sk-container {/* jupyter's `normalize.less` sets `[hidden] { display: none; }` but bootstrap.min.css set `[hidden] { display: none !important; }` so we also need the `!important` here to be able to override the default hidden behavior on the sphinx rendered scikit-learn.org. See: https://github.com/scikit-learn/scikit-learn/issues/21755 */display: inline-block !important;position: relative;}#sk-container-id-11 div.sk-text-repr-fallback {display: none;}</style><div id=\"sk-container-id-11\" class=\"sk-top-container\"><div class=\"sk-text-repr-fallback\"><pre>KNeighborsClassifier(n_neighbors=3)</pre><b>In a Jupyter environment, please rerun this cell to show the HTML representation or trust the notebook. <br />On GitHub, the HTML representation is unable to render, please try loading this page with nbviewer.org.</b></div><div class=\"sk-container\" hidden><div class=\"sk-item\"><div class=\"sk-estimator sk-toggleable\"><input class=\"sk-toggleable__control sk-hidden--visually\" id=\"sk-estimator-id-11\" type=\"checkbox\" checked><label for=\"sk-estimator-id-11\" class=\"sk-toggleable__label sk-toggleable__label-arrow\">KNeighborsClassifier</label><div class=\"sk-toggleable__content\"><pre>KNeighborsClassifier(n_neighbors=3)</pre></div></div></div></div></div>"
      ],
      "text/plain": [
       "KNeighborsClassifier(n_neighbors=3)"
      ]
     },
     "execution_count": 282,
     "metadata": {},
     "output_type": "execute_result"
    }
   ],
   "source": [
    "model"
   ]
  },
  {
   "cell_type": "code",
   "execution_count": null,
   "id": "7dc412a3-804a-4f29-ba34-6231138e57c3",
   "metadata": {},
   "outputs": [
    {
     "data": {
      "text/html": [
       "<style>#sk-container-id-12 {color: black;background-color: white;}#sk-container-id-12 pre{padding: 0;}#sk-container-id-12 div.sk-toggleable {background-color: white;}#sk-container-id-12 label.sk-toggleable__label {cursor: pointer;display: block;width: 100%;margin-bottom: 0;padding: 0.3em;box-sizing: border-box;text-align: center;}#sk-container-id-12 label.sk-toggleable__label-arrow:before {content: \"▸\";float: left;margin-right: 0.25em;color: #696969;}#sk-container-id-12 label.sk-toggleable__label-arrow:hover:before {color: black;}#sk-container-id-12 div.sk-estimator:hover label.sk-toggleable__label-arrow:before {color: black;}#sk-container-id-12 div.sk-toggleable__content {max-height: 0;max-width: 0;overflow: hidden;text-align: left;background-color: #f0f8ff;}#sk-container-id-12 div.sk-toggleable__content pre {margin: 0.2em;color: black;border-radius: 0.25em;background-color: #f0f8ff;}#sk-container-id-12 input.sk-toggleable__control:checked~div.sk-toggleable__content {max-height: 200px;max-width: 100%;overflow: auto;}#sk-container-id-12 input.sk-toggleable__control:checked~label.sk-toggleable__label-arrow:before {content: \"▾\";}#sk-container-id-12 div.sk-estimator input.sk-toggleable__control:checked~label.sk-toggleable__label {background-color: #d4ebff;}#sk-container-id-12 div.sk-label input.sk-toggleable__control:checked~label.sk-toggleable__label {background-color: #d4ebff;}#sk-container-id-12 input.sk-hidden--visually {border: 0;clip: rect(1px 1px 1px 1px);clip: rect(1px, 1px, 1px, 1px);height: 1px;margin: -1px;overflow: hidden;padding: 0;position: absolute;width: 1px;}#sk-container-id-12 div.sk-estimator {font-family: monospace;background-color: #f0f8ff;border: 1px dotted black;border-radius: 0.25em;box-sizing: border-box;margin-bottom: 0.5em;}#sk-container-id-12 div.sk-estimator:hover {background-color: #d4ebff;}#sk-container-id-12 div.sk-parallel-item::after {content: \"\";width: 100%;border-bottom: 1px solid gray;flex-grow: 1;}#sk-container-id-12 div.sk-label:hover label.sk-toggleable__label {background-color: #d4ebff;}#sk-container-id-12 div.sk-serial::before {content: \"\";position: absolute;border-left: 1px solid gray;box-sizing: border-box;top: 0;bottom: 0;left: 50%;z-index: 0;}#sk-container-id-12 div.sk-serial {display: flex;flex-direction: column;align-items: center;background-color: white;padding-right: 0.2em;padding-left: 0.2em;position: relative;}#sk-container-id-12 div.sk-item {position: relative;z-index: 1;}#sk-container-id-12 div.sk-parallel {display: flex;align-items: stretch;justify-content: center;background-color: white;position: relative;}#sk-container-id-12 div.sk-item::before, #sk-container-id-12 div.sk-parallel-item::before {content: \"\";position: absolute;border-left: 1px solid gray;box-sizing: border-box;top: 0;bottom: 0;left: 50%;z-index: -1;}#sk-container-id-12 div.sk-parallel-item {display: flex;flex-direction: column;z-index: 1;position: relative;background-color: white;}#sk-container-id-12 div.sk-parallel-item:first-child::after {align-self: flex-end;width: 50%;}#sk-container-id-12 div.sk-parallel-item:last-child::after {align-self: flex-start;width: 50%;}#sk-container-id-12 div.sk-parallel-item:only-child::after {width: 0;}#sk-container-id-12 div.sk-dashed-wrapped {border: 1px dashed gray;margin: 0 0.4em 0.5em 0.4em;box-sizing: border-box;padding-bottom: 0.4em;background-color: white;}#sk-container-id-12 div.sk-label label {font-family: monospace;font-weight: bold;display: inline-block;line-height: 1.2em;}#sk-container-id-12 div.sk-label-container {text-align: center;}#sk-container-id-12 div.sk-container {/* jupyter's `normalize.less` sets `[hidden] { display: none; }` but bootstrap.min.css set `[hidden] { display: none !important; }` so we also need the `!important` here to be able to override the default hidden behavior on the sphinx rendered scikit-learn.org. See: https://github.com/scikit-learn/scikit-learn/issues/21755 */display: inline-block !important;position: relative;}#sk-container-id-12 div.sk-text-repr-fallback {display: none;}</style><div id=\"sk-container-id-12\" class=\"sk-top-container\"><div class=\"sk-text-repr-fallback\"><pre>KNeighborsClassifier(n_neighbors=3)</pre><b>In a Jupyter environment, please rerun this cell to show the HTML representation or trust the notebook. <br />On GitHub, the HTML representation is unable to render, please try loading this page with nbviewer.org.</b></div><div class=\"sk-container\" hidden><div class=\"sk-item\"><div class=\"sk-estimator sk-toggleable\"><input class=\"sk-toggleable__control sk-hidden--visually\" id=\"sk-estimator-id-12\" type=\"checkbox\" checked><label for=\"sk-estimator-id-12\" class=\"sk-toggleable__label sk-toggleable__label-arrow\">KNeighborsClassifier</label><div class=\"sk-toggleable__content\"><pre>KNeighborsClassifier(n_neighbors=3)</pre></div></div></div></div></div>"
      ],
      "text/plain": [
       "KNeighborsClassifier(n_neighbors=3)"
      ]
     },
     "execution_count": 283,
     "metadata": {},
     "output_type": "execute_result"
    }
   ],
   "source": [
    "model1"
   ]
  },
  {
   "attachments": {},
   "cell_type": "markdown",
   "id": "a082a021-1068-4edb-9f81-274198343342",
   "metadata": {},
   "source": [
    "# Inference: we need predictions on null values(Target variables)"
   ]
  },
  {
   "attachments": {},
   "cell_type": "markdown",
   "id": "eb04f4d4-6240-4d8b-8498-60e4133abfb3",
   "metadata": {},
   "source": [
    "## Now Creating new dataset DF2 & extracting data"
   ]
  },
  {
   "cell_type": "code",
   "execution_count": null,
   "id": "e978a748-b7da-44c0-9c8d-27cf9a7d7462",
   "metadata": {},
   "outputs": [],
   "source": [
    "# We need to create a node\n",
    "def extract_training_data_inference(df):\n",
    "    \"\"\"\" Extracting the training data from raw data and droping Date column\n",
    "    Args: Pandas DataFrame here Raw Data\n",
    "    Return: DataFrame i.e. Training Data\"\"\"\n",
    "    \n",
    "     #This is our training data\n",
    "    df3=df[df['RainTomorrow'].isna()]\n",
    "    df3 = df3.drop(\"Date\", axis = 1)\n",
    "    return df3"
   ]
  },
  {
   "cell_type": "code",
   "execution_count": null,
   "id": "2376a15a-79a3-4217-9461-a2d3e3006708",
   "metadata": {},
   "outputs": [],
   "source": [
    "new_var = df3 = extract_training_data(df)\n",
    "new_var"
   ]
  },
  {
   "cell_type": "code",
   "execution_count": null,
   "id": "a9939a04-6030-4df7-bcb6-4eaf7a52968d",
   "metadata": {},
   "outputs": [
    {
     "data": {
      "text/html": [
       "<div>\n",
       "<style scoped>\n",
       "    .dataframe tbody tr th:only-of-type {\n",
       "        vertical-align: middle;\n",
       "    }\n",
       "\n",
       "    .dataframe tbody tr th {\n",
       "        vertical-align: top;\n",
       "    }\n",
       "\n",
       "    .dataframe thead th {\n",
       "        text-align: right;\n",
       "    }\n",
       "</style>\n",
       "<table border=\"1\" class=\"dataframe\">\n",
       "  <thead>\n",
       "    <tr style=\"text-align: right;\">\n",
       "      <th></th>\n",
       "      <th>Location</th>\n",
       "      <th>MinTemp</th>\n",
       "      <th>MaxTemp</th>\n",
       "      <th>Rainfall</th>\n",
       "      <th>Evaporation</th>\n",
       "      <th>Sunshine</th>\n",
       "      <th>WindGustDir</th>\n",
       "      <th>WindGustSpeed</th>\n",
       "      <th>WindDir9am</th>\n",
       "      <th>WindDir3pm</th>\n",
       "      <th>...</th>\n",
       "      <th>Humidity9am</th>\n",
       "      <th>Humidity3pm</th>\n",
       "      <th>Pressure9am</th>\n",
       "      <th>Pressure3pm</th>\n",
       "      <th>Cloud9am</th>\n",
       "      <th>Cloud3pm</th>\n",
       "      <th>Temp9am</th>\n",
       "      <th>Temp3pm</th>\n",
       "      <th>RainToday</th>\n",
       "      <th>RainTomorrow</th>\n",
       "    </tr>\n",
       "  </thead>\n",
       "  <tbody>\n",
       "    <tr>\n",
       "      <th>14</th>\n",
       "      <td>Albury</td>\n",
       "      <td>8.4</td>\n",
       "      <td>24.6</td>\n",
       "      <td>0.0</td>\n",
       "      <td>NaN</td>\n",
       "      <td>NaN</td>\n",
       "      <td>NaN</td>\n",
       "      <td>NaN</td>\n",
       "      <td>S</td>\n",
       "      <td>WNW</td>\n",
       "      <td>...</td>\n",
       "      <td>57.0</td>\n",
       "      <td>32.0</td>\n",
       "      <td>1009.7</td>\n",
       "      <td>1008.7</td>\n",
       "      <td>NaN</td>\n",
       "      <td>NaN</td>\n",
       "      <td>15.9</td>\n",
       "      <td>23.5</td>\n",
       "      <td>No</td>\n",
       "      <td>NaN</td>\n",
       "    </tr>\n",
       "    <tr>\n",
       "      <th>283</th>\n",
       "      <td>Albury</td>\n",
       "      <td>2.6</td>\n",
       "      <td>NaN</td>\n",
       "      <td>0.0</td>\n",
       "      <td>NaN</td>\n",
       "      <td>NaN</td>\n",
       "      <td>NaN</td>\n",
       "      <td>NaN</td>\n",
       "      <td>E</td>\n",
       "      <td>WNW</td>\n",
       "      <td>...</td>\n",
       "      <td>71.0</td>\n",
       "      <td>55.0</td>\n",
       "      <td>1017.8</td>\n",
       "      <td>1017.6</td>\n",
       "      <td>NaN</td>\n",
       "      <td>6.0</td>\n",
       "      <td>9.7</td>\n",
       "      <td>14.3</td>\n",
       "      <td>No</td>\n",
       "      <td>NaN</td>\n",
       "    </tr>\n",
       "    <tr>\n",
       "      <th>435</th>\n",
       "      <td>Albury</td>\n",
       "      <td>22.1</td>\n",
       "      <td>35.1</td>\n",
       "      <td>0.0</td>\n",
       "      <td>NaN</td>\n",
       "      <td>NaN</td>\n",
       "      <td>NaN</td>\n",
       "      <td>NaN</td>\n",
       "      <td>ENE</td>\n",
       "      <td>SW</td>\n",
       "      <td>...</td>\n",
       "      <td>58.0</td>\n",
       "      <td>37.0</td>\n",
       "      <td>1020.9</td>\n",
       "      <td>1017.8</td>\n",
       "      <td>NaN</td>\n",
       "      <td>1.0</td>\n",
       "      <td>26.9</td>\n",
       "      <td>33.5</td>\n",
       "      <td>No</td>\n",
       "      <td>NaN</td>\n",
       "    </tr>\n",
       "    <tr>\n",
       "      <th>437</th>\n",
       "      <td>Albury</td>\n",
       "      <td>21.5</td>\n",
       "      <td>35.0</td>\n",
       "      <td>0.0</td>\n",
       "      <td>NaN</td>\n",
       "      <td>NaN</td>\n",
       "      <td>NaN</td>\n",
       "      <td>NaN</td>\n",
       "      <td>SSE</td>\n",
       "      <td>E</td>\n",
       "      <td>...</td>\n",
       "      <td>76.0</td>\n",
       "      <td>35.0</td>\n",
       "      <td>1015.8</td>\n",
       "      <td>1010.3</td>\n",
       "      <td>NaN</td>\n",
       "      <td>8.0</td>\n",
       "      <td>24.2</td>\n",
       "      <td>33.1</td>\n",
       "      <td>No</td>\n",
       "      <td>NaN</td>\n",
       "    </tr>\n",
       "    <tr>\n",
       "      <th>443</th>\n",
       "      <td>Albury</td>\n",
       "      <td>15.5</td>\n",
       "      <td>30.6</td>\n",
       "      <td>0.0</td>\n",
       "      <td>NaN</td>\n",
       "      <td>NaN</td>\n",
       "      <td>NaN</td>\n",
       "      <td>NaN</td>\n",
       "      <td>SE</td>\n",
       "      <td>SSW</td>\n",
       "      <td>...</td>\n",
       "      <td>66.0</td>\n",
       "      <td>30.0</td>\n",
       "      <td>1015.9</td>\n",
       "      <td>1013.8</td>\n",
       "      <td>NaN</td>\n",
       "      <td>NaN</td>\n",
       "      <td>19.4</td>\n",
       "      <td>30.0</td>\n",
       "      <td>No</td>\n",
       "      <td>NaN</td>\n",
       "    </tr>\n",
       "    <tr>\n",
       "      <th>...</th>\n",
       "      <td>...</td>\n",
       "      <td>...</td>\n",
       "      <td>...</td>\n",
       "      <td>...</td>\n",
       "      <td>...</td>\n",
       "      <td>...</td>\n",
       "      <td>...</td>\n",
       "      <td>...</td>\n",
       "      <td>...</td>\n",
       "      <td>...</td>\n",
       "      <td>...</td>\n",
       "      <td>...</td>\n",
       "      <td>...</td>\n",
       "      <td>...</td>\n",
       "      <td>...</td>\n",
       "      <td>...</td>\n",
       "      <td>...</td>\n",
       "      <td>...</td>\n",
       "      <td>...</td>\n",
       "      <td>...</td>\n",
       "      <td>...</td>\n",
       "    </tr>\n",
       "    <tr>\n",
       "      <th>144955</th>\n",
       "      <td>Uluru</td>\n",
       "      <td>22.5</td>\n",
       "      <td>37.7</td>\n",
       "      <td>0.0</td>\n",
       "      <td>NaN</td>\n",
       "      <td>NaN</td>\n",
       "      <td>SE</td>\n",
       "      <td>50.0</td>\n",
       "      <td>SE</td>\n",
       "      <td>ESE</td>\n",
       "      <td>...</td>\n",
       "      <td>22.0</td>\n",
       "      <td>11.0</td>\n",
       "      <td>1012.6</td>\n",
       "      <td>1009.6</td>\n",
       "      <td>NaN</td>\n",
       "      <td>NaN</td>\n",
       "      <td>28.8</td>\n",
       "      <td>37.2</td>\n",
       "      <td>No</td>\n",
       "      <td>NaN</td>\n",
       "    </tr>\n",
       "    <tr>\n",
       "      <th>145091</th>\n",
       "      <td>Uluru</td>\n",
       "      <td>12.3</td>\n",
       "      <td>19.1</td>\n",
       "      <td>0.0</td>\n",
       "      <td>NaN</td>\n",
       "      <td>NaN</td>\n",
       "      <td>NaN</td>\n",
       "      <td>NaN</td>\n",
       "      <td>NaN</td>\n",
       "      <td>NaN</td>\n",
       "      <td>...</td>\n",
       "      <td>79.0</td>\n",
       "      <td>62.0</td>\n",
       "      <td>1016.8</td>\n",
       "      <td>1014.1</td>\n",
       "      <td>8.0</td>\n",
       "      <td>8.0</td>\n",
       "      <td>15.6</td>\n",
       "      <td>18.9</td>\n",
       "      <td>No</td>\n",
       "      <td>NaN</td>\n",
       "    </tr>\n",
       "    <tr>\n",
       "      <th>145092</th>\n",
       "      <td>Uluru</td>\n",
       "      <td>14.2</td>\n",
       "      <td>18.7</td>\n",
       "      <td>NaN</td>\n",
       "      <td>NaN</td>\n",
       "      <td>NaN</td>\n",
       "      <td>NaN</td>\n",
       "      <td>NaN</td>\n",
       "      <td>W</td>\n",
       "      <td>NaN</td>\n",
       "      <td>...</td>\n",
       "      <td>81.0</td>\n",
       "      <td>67.0</td>\n",
       "      <td>1015.2</td>\n",
       "      <td>1014.6</td>\n",
       "      <td>8.0</td>\n",
       "      <td>8.0</td>\n",
       "      <td>16.6</td>\n",
       "      <td>17.5</td>\n",
       "      <td>NaN</td>\n",
       "      <td>NaN</td>\n",
       "    </tr>\n",
       "    <tr>\n",
       "      <th>145335</th>\n",
       "      <td>Uluru</td>\n",
       "      <td>13.5</td>\n",
       "      <td>NaN</td>\n",
       "      <td>0.0</td>\n",
       "      <td>NaN</td>\n",
       "      <td>NaN</td>\n",
       "      <td>NaN</td>\n",
       "      <td>NaN</td>\n",
       "      <td>ENE</td>\n",
       "      <td>SW</td>\n",
       "      <td>...</td>\n",
       "      <td>23.0</td>\n",
       "      <td>11.0</td>\n",
       "      <td>1013.7</td>\n",
       "      <td>1008.4</td>\n",
       "      <td>NaN</td>\n",
       "      <td>NaN</td>\n",
       "      <td>25.2</td>\n",
       "      <td>34.4</td>\n",
       "      <td>No</td>\n",
       "      <td>NaN</td>\n",
       "    </tr>\n",
       "    <tr>\n",
       "      <th>145459</th>\n",
       "      <td>Uluru</td>\n",
       "      <td>14.9</td>\n",
       "      <td>NaN</td>\n",
       "      <td>0.0</td>\n",
       "      <td>NaN</td>\n",
       "      <td>NaN</td>\n",
       "      <td>NaN</td>\n",
       "      <td>NaN</td>\n",
       "      <td>ESE</td>\n",
       "      <td>ESE</td>\n",
       "      <td>...</td>\n",
       "      <td>62.0</td>\n",
       "      <td>36.0</td>\n",
       "      <td>1020.2</td>\n",
       "      <td>1017.9</td>\n",
       "      <td>8.0</td>\n",
       "      <td>8.0</td>\n",
       "      <td>15.0</td>\n",
       "      <td>20.9</td>\n",
       "      <td>No</td>\n",
       "      <td>NaN</td>\n",
       "    </tr>\n",
       "  </tbody>\n",
       "</table>\n",
       "<p>3267 rows × 22 columns</p>\n",
       "</div>"
      ]
     },
     "execution_count": 286,
     "metadata": {},
     "output_type": "execute_result"
    }
   ],
   "source": [
    "\n",
    "df3"
   ]
  },
  {
   "attachments": {},
   "cell_type": "markdown",
   "id": "7ec99644-158f-4094-b066-cd17ead45558",
   "metadata": {},
   "source": [
    "## Label encoding"
   ]
  },
  {
   "cell_type": "code",
   "execution_count": null,
   "id": "fb91b38b-140a-4581-a504-57a020b247c4",
   "metadata": {},
   "outputs": [],
   "source": [
    "# We need to create a node\n",
    "def label_encoding_filling_null_inference(df3):\n",
    "    \"\"\"\" label encoding the training  and filling null values in column\n",
    "    Args:  DataFrame training data\n",
    "    Return: DataFrame without null values i.e. Training Data\"\"\"\n",
    "    \n",
    "    # label_encoder object knows how to understand word labels.\n",
    "    label_encoder = preprocessing.LabelEncoder()\n",
    "  \n",
    "    # Encode labels in column 'Location'.'RainTomorrow','Date','WindDir9am',\t'WindDir3pm',\t'RainToday',\t'RainTomorrow'\n",
    "    df3['Location']= label_encoder.fit_transform(df3['Location'])\n",
    "    df3['WindGustDir']= label_encoder.fit_transform(df3['WindGustDir'])\n",
    "    df3['WindDir9am']= label_encoder.fit_transform(df3['WindDir9am'])\n",
    "    df3['WindDir3pm']= label_encoder.fit_transform(df3['WindDir3pm'])\n",
    "    df3['RainToday']= label_encoder.fit_transform(df3['RainToday'])\n",
    "    df3['RainTomorrow']= label_encoder.fit_transform(df3['RainTomorrow'])\n",
    "    return (df3)"
   ]
  },
  {
   "cell_type": "code",
   "execution_count": null,
   "id": "279a9618-f694-4859-bb30-87ce6e13a36b",
   "metadata": {},
   "outputs": [],
   "source": [
    "df2=label_encoding_filling_null(df3)"
   ]
  },
  {
   "attachments": {},
   "cell_type": "markdown",
   "id": "aca22f34-b888-4c86-9830-9d54d76b8ad4",
   "metadata": {},
   "source": [
    "# splitting data"
   ]
  },
  {
   "cell_type": "code",
   "execution_count": null,
   "id": "275425b3-16a9-4626-a6bb-7ef9a7b6c564",
   "metadata": {},
   "outputs": [],
   "source": [
    "# We need to create a node\n",
    "def  split_data_infernce(df):\n",
    "\n",
    "    \"\"\"Splits data into features and targets training and test sets.\n",
    "    Args:\n",
    "        data: Data containing features and target.\n",
    "    Returns:\n",
    "        Split data.\n",
    "    \"\"\"\n",
    "    X = df3.drop(['RainTomorrow'], axis=1)\n",
    "\n",
    "    y = df3['RainTomorrow']\n",
    "    \n",
    "    #now categorial variables\n",
    "    #replacing null values in categorical variables with mode value\n",
    "    X['WindGustDir'].fillna(X['WindGustDir'].mode()[0], inplace=True)\n",
    "    X['WindDir9am'].fillna(X['WindDir9am'].mode()[0], inplace=True)\n",
    "    X['WindDir3pm'].fillna(X['WindDir3pm'].mode()[0], inplace=True)\n",
    "    X['RainToday'].fillna(X['RainToday'].mode()[0], inplace=True)\n",
    "    \n",
    "        #filling the null values in numerical variable with median\n",
    "    X = X.fillna(X.median())\n",
    "    return X , y\n"
   ]
  },
  {
   "cell_type": "code",
   "execution_count": null,
   "id": "5a721454-c8f3-4698-8d70-dd1ae9b04d1b",
   "metadata": {},
   "outputs": [],
   "source": [
    " X,y= split_data(df3)"
   ]
  },
  {
   "cell_type": "code",
   "execution_count": null,
   "id": "a1ab614a-6f8d-439a-88e5-327f75c865ae",
   "metadata": {},
   "outputs": [
    {
     "name": "stdout",
     "output_type": "stream",
     "text": [
      "(3267, 21)\n",
      "(3267,)\n"
     ]
    }
   ],
   "source": [
    "print(X.shape)\n",
    "print(y.shape)"
   ]
  },
  {
   "cell_type": "code",
   "execution_count": null,
   "id": "0edef267-5f20-402a-92fd-e6767d4bca49",
   "metadata": {},
   "outputs": [
    {
     "name": "stdout",
     "output_type": "stream",
     "text": [
      "0\n"
     ]
    },
    {
     "data": {
      "text/html": [
       "<pre style=\"white-space:pre;overflow-x:auto;line-height:normal;font-family:Menlo,'DejaVu Sans Mono',consolas,'Courier New',monospace\">\n",
       "Location         <span style=\"color: #008080; text-decoration-color: #008080; font-weight: bold\">0</span>\n",
       "MinTemp          <span style=\"color: #008080; text-decoration-color: #008080; font-weight: bold\">0</span>\n",
       "MaxTemp          <span style=\"color: #008080; text-decoration-color: #008080; font-weight: bold\">0</span>\n",
       "Rainfall         <span style=\"color: #008080; text-decoration-color: #008080; font-weight: bold\">0</span>\n",
       "Evaporation      <span style=\"color: #008080; text-decoration-color: #008080; font-weight: bold\">0</span>\n",
       "Sunshine         <span style=\"color: #008080; text-decoration-color: #008080; font-weight: bold\">0</span>\n",
       "WindGustDir      <span style=\"color: #008080; text-decoration-color: #008080; font-weight: bold\">0</span>\n",
       "WindGustSpeed    <span style=\"color: #008080; text-decoration-color: #008080; font-weight: bold\">0</span>\n",
       "WindDir9am       <span style=\"color: #008080; text-decoration-color: #008080; font-weight: bold\">0</span>\n",
       "WindDir3pm       <span style=\"color: #008080; text-decoration-color: #008080; font-weight: bold\">0</span>\n",
       "WindSpeed9am     <span style=\"color: #008080; text-decoration-color: #008080; font-weight: bold\">0</span>\n",
       "WindSpeed3pm     <span style=\"color: #008080; text-decoration-color: #008080; font-weight: bold\">0</span>\n",
       "Humidity9am      <span style=\"color: #008080; text-decoration-color: #008080; font-weight: bold\">0</span>\n",
       "Humidity3pm      <span style=\"color: #008080; text-decoration-color: #008080; font-weight: bold\">0</span>\n",
       "Pressure9am      <span style=\"color: #008080; text-decoration-color: #008080; font-weight: bold\">0</span>\n",
       "Pressure3pm      <span style=\"color: #008080; text-decoration-color: #008080; font-weight: bold\">0</span>\n",
       "Cloud9am         <span style=\"color: #008080; text-decoration-color: #008080; font-weight: bold\">0</span>\n",
       "Cloud3pm         <span style=\"color: #008080; text-decoration-color: #008080; font-weight: bold\">0</span>\n",
       "Temp9am          <span style=\"color: #008080; text-decoration-color: #008080; font-weight: bold\">0</span>\n",
       "Temp3pm          <span style=\"color: #008080; text-decoration-color: #008080; font-weight: bold\">0</span>\n",
       "RainToday        <span style=\"color: #008080; text-decoration-color: #008080; font-weight: bold\">0</span>\n",
       "dtype: int64\n",
       "</pre>\n"
      ],
      "text/plain": [
       "\n",
       "Location         \u001b[1;36m0\u001b[0m\n",
       "MinTemp          \u001b[1;36m0\u001b[0m\n",
       "MaxTemp          \u001b[1;36m0\u001b[0m\n",
       "Rainfall         \u001b[1;36m0\u001b[0m\n",
       "Evaporation      \u001b[1;36m0\u001b[0m\n",
       "Sunshine         \u001b[1;36m0\u001b[0m\n",
       "WindGustDir      \u001b[1;36m0\u001b[0m\n",
       "WindGustSpeed    \u001b[1;36m0\u001b[0m\n",
       "WindDir9am       \u001b[1;36m0\u001b[0m\n",
       "WindDir3pm       \u001b[1;36m0\u001b[0m\n",
       "WindSpeed9am     \u001b[1;36m0\u001b[0m\n",
       "WindSpeed3pm     \u001b[1;36m0\u001b[0m\n",
       "Humidity9am      \u001b[1;36m0\u001b[0m\n",
       "Humidity3pm      \u001b[1;36m0\u001b[0m\n",
       "Pressure9am      \u001b[1;36m0\u001b[0m\n",
       "Pressure3pm      \u001b[1;36m0\u001b[0m\n",
       "Cloud9am         \u001b[1;36m0\u001b[0m\n",
       "Cloud3pm         \u001b[1;36m0\u001b[0m\n",
       "Temp9am          \u001b[1;36m0\u001b[0m\n",
       "Temp3pm          \u001b[1;36m0\u001b[0m\n",
       "RainToday        \u001b[1;36m0\u001b[0m\n",
       "dtype: int64\n"
      ]
     },
     "metadata": {},
     "output_type": "display_data"
    }
   ],
   "source": [
    "print(y.isna().sum())\n",
    "X.isna().sum()"
   ]
  },
  {
   "attachments": {},
   "cell_type": "markdown",
   "id": "9598f9d5-7501-4fe6-886f-9a07aa09e1d6",
   "metadata": {},
   "source": [
    "# Now predict results on past traning model building"
   ]
  },
  {
   "cell_type": "code",
   "execution_count": null,
   "id": "2c72298d-5524-4f2b-bc30-b3e902d32bdf",
   "metadata": {},
   "outputs": [],
   "source": [
    "def evaluate_model_infernce(\n",
    "      knn : KNeighborsClassifier(),X: pd.DataFrame, y: pd.Series\n",
    "):\n",
    "    \"\"\"Calculates and logs the coefficient of determination.\n",
    "    Args:\n",
    "        knn: Trained model.\n",
    "        X:  data of independent features.\n",
    "        y:  data for price.\n",
    "        \n",
    "    Returns:\n",
    "        y_pred_test:prediction on x test\n",
    "        acc        :accuracy_score\n",
    "    \"\"\"\n",
    "    y_pred_2 =   knn.predict(X)\n",
    "    #**Check accuracy score**\n",
    "    from sklearn.metrics import accuracy_score\n",
    "    acc=(accuracy_score(y, y_pred_2))\n",
    "    print('Model accuracy score: ', acc)\n",
    "    print(classification_report(y, y_pred_2))\n",
    "    return(y_pred_2,acc)"
   ]
  },
  {
   "cell_type": "code",
   "execution_count": null,
   "id": "304b4250-61ed-40de-8a1e-ad0f5aaf991a",
   "metadata": {},
   "outputs": [
    {
     "name": "stdout",
     "output_type": "stream",
     "text": [
      "Model accuracy score:  0.8019589837771656\n",
      "              precision    recall  f1-score   support\n",
      "\n",
      "           0       1.00      0.80      0.89      3267\n",
      "           1       0.00      0.00      0.00         0\n",
      "\n",
      "    accuracy                           0.80      3267\n",
      "   macro avg       0.50      0.40      0.45      3267\n",
      "weighted avg       1.00      0.80      0.89      3267\n",
      "\n"
     ]
    }
   ],
   "source": [
    "y_pred_2,acc_knn=evaluate_model(knn, X, y)"
   ]
  },
  {
   "cell_type": "code",
   "execution_count": null,
   "id": "0969aae4-3319-4bae-9abf-55fe82120a49",
   "metadata": {},
   "outputs": [],
   "source": []
  },
  {
   "cell_type": "code",
   "execution_count": null,
   "id": "5a34f7b3-6d91-42f7-9862-96d69fb23665",
   "metadata": {},
   "outputs": [],
   "source": []
  },
  {
   "cell_type": "code",
   "execution_count": null,
   "id": "8bb967cd-f41d-451d-9c66-d4c7d65574a3",
   "metadata": {},
   "outputs": [],
   "source": []
  }
 ],
 "metadata": {
  "kernelspec": {
   "display_name": "Kedro (weather_us)",
   "language": "python",
   "name": "kedro_weather_us"
  },
  "language_info": {
   "codemirror_mode": {
    "name": "ipython",
    "version": 3
   },
   "file_extension": ".py",
   "mimetype": "text/x-python",
   "name": "python",
   "nbconvert_exporter": "python",
   "pygments_lexer": "ipython3",
   "version": "3.10.8"
  }
 },
 "nbformat": 4,
 "nbformat_minor": 5
}
